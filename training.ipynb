{
 "cells": [
  {
   "cell_type": "code",
   "execution_count": 1,
   "metadata": {},
   "outputs": [
    {
     "name": "stdout",
     "output_type": "stream",
     "text": [
      "ultralytics 8.3.62\n"
     ]
    }
   ],
   "source": [
    "from ultralytics import YOLO\n",
    "import torch\n",
    "import pandas as pd\n",
    "import torch\n",
    "import os\n",
    "import glob\n",
    "import wandb\n",
    "import ultralytics\n",
    "import cv2\n",
    "print('ultralytics %s' % ultralytics.__version__)"
   ]
  },
  {
   "cell_type": "code",
   "execution_count": 2,
   "metadata": {},
   "outputs": [
    {
     "name": "stdout",
     "output_type": "stream",
     "text": [
      "Thu Feb 13 19:39:12 2025       \n",
      "+-----------------------------------------------------------------------------------------+\n",
      "| NVIDIA-SMI 560.94                 Driver Version: 560.94         CUDA Version: 12.6     |\n",
      "|-----------------------------------------+------------------------+----------------------+\n",
      "| GPU  Name                  Driver-Model | Bus-Id          Disp.A | Volatile Uncorr. ECC |\n",
      "| Fan  Temp   Perf          Pwr:Usage/Cap |           Memory-Usage | GPU-Util  Compute M. |\n",
      "|                                         |                        |               MIG M. |\n",
      "|=========================================+========================+======================|\n",
      "|   0  NVIDIA GeForce GTX 1660 ...  WDDM  |   00000000:06:00.0  On |                  N/A |\n",
      "| 32%   48C    P0             29W /  125W |     821MiB /   6144MiB |      1%      Default |\n",
      "|                                         |                        |                  N/A |\n",
      "+-----------------------------------------+------------------------+----------------------+\n",
      "                                                                                         \n",
      "+-----------------------------------------------------------------------------------------+\n",
      "| Processes:                                                                              |\n",
      "|  GPU   GI   CI        PID   Type   Process name                              GPU Memory |\n",
      "|        ID   ID                                                               Usage      |\n",
      "|=========================================================================================|\n",
      "|    0   N/A  N/A      1768    C+G   ...Programs\\Microsoft VS Code\\Code.exe      N/A      |\n",
      "|    0   N/A  N/A      8328    C+G   ...on\\wallpaper_engine\\wallpaper32.exe      N/A      |\n",
      "|    0   N/A  N/A      8480    C+G   C:\\Windows\\explorer.exe                     N/A      |\n",
      "|    0   N/A  N/A     11460    C+G   ...2txyewy\\StartMenuExperienceHost.exe      N/A      |\n",
      "|    0   N/A  N/A     11640    C+G   ....Search_cw5n1h2txyewy\\SearchApp.exe      N/A      |\n",
      "|    0   N/A  N/A     12928    C+G   ...b3d8bbwe\\Microsoft.Media.Player.exe      N/A      |\n",
      "|    0   N/A  N/A     14440    C+G   ...CBS_cw5n1h2txyewy\\TextInputHost.exe      N/A      |\n",
      "|    0   N/A  N/A     15192    C+G   ...al\\Discord\\app-1.0.9182\\Discord.exe      N/A      |\n",
      "|    0   N/A  N/A     15332    C+G   ...ekyb3d8bbwe\\PhoneExperienceHost.exe      N/A      |\n",
      "|    0   N/A  N/A     18336    C+G   ...ta\\Local\\Programs\\Notion\\Notion.exe      N/A      |\n",
      "|    0   N/A  N/A     18936    C+G   ...2.0_x64__cv1g1gvanyjgm\\WhatsApp.exe      N/A      |\n",
      "|    0   N/A  N/A     19448    C+G   ...B\\system_tray\\lghub_system_tray.exe      N/A      |\n",
      "|    0   N/A  N/A     19508    C+G   ...siveControlPanel\\SystemSettings.exe      N/A      |\n",
      "|    0   N/A  N/A     21140    C+G   ...64__8wekyb3d8bbwe\\CalculatorApp.exe      N/A      |\n",
      "+-----------------------------------------------------------------------------------------+\n"
     ]
    }
   ],
   "source": [
    "!nvidia-smi"
   ]
  },
  {
   "cell_type": "markdown",
   "metadata": {},
   "source": [
    "Arguments setting for the model"
   ]
  },
  {
   "cell_type": "code",
   "execution_count": 3,
   "metadata": {},
   "outputs": [],
   "source": [
    "args = dict(\n",
    "    data = \"data.yaml\",\n",
    "    epochs = 5,\n",
    "    patience = 5,\n",
    "    batch = 4,\n",
    "    save = False,\n",
    "    save_period = 5,\n",
    "    device = '0',\n",
    "    workers = 1,\n",
    "    project = \"weights\",\n",
    "    name = \"try\",\n",
    "    exist_ok = False, #overwrite the existing run for iterative testing, turn false when confident\n",
    "    pretrained = True,\n",
    "    optimizer = 'auto',\n",
    "    resume = False,\n",
    "    amp = False, #mixed precision training for faster training, might cause some issues\n",
    "    fraction = 0.1, #fraction of dataset if resouce limited, change to 1 when confident\n",
    "    profile = False, #enable ONNX and TensorRT profiling\n",
    "    freeze = None, #freeze the first N layers or can specify the layers by index\n",
    "    #for validation part\n",
    "    conf = 0.01,\n",
    "    iou = 0.6,\n",
    "    degrees = 0.0, \n",
    "    shear = 0.0,\n",
    "    perspective = 0.0,\n",
    "    plots = True,\n",
    "    half = True, #use half precision for weaker gpu\n",
    ")"
   ]
  },
  {
   "cell_type": "markdown",
   "metadata": {},
   "source": [
    "Loading the model yoloV8 and running wandb for logging"
   ]
  },
  {
   "cell_type": "markdown",
   "metadata": {},
   "source": [
    "Training of model"
   ]
  },
  {
   "cell_type": "code",
   "execution_count": 4,
   "metadata": {},
   "outputs": [],
   "source": [
    "#training model\n",
    "model = YOLO('yolov8n.pt')\n"
   ]
  },
  {
   "cell_type": "code",
   "execution_count": 5,
   "metadata": {},
   "outputs": [
    {
     "name": "stderr",
     "output_type": "stream",
     "text": [
      "\u001b[34m\u001b[1mwandb\u001b[0m: Currently logged in as: \u001b[33mejento47\u001b[0m (\u001b[33mobject-detection-glottis-fyp\u001b[0m) to \u001b[32mhttps://api.wandb.ai\u001b[0m. Use \u001b[1m`wandb login --relogin`\u001b[0m to force relogin\n"
     ]
    },
    {
     "data": {
      "text/plain": [
       "True"
      ]
     },
     "execution_count": 5,
     "metadata": {},
     "output_type": "execute_result"
    }
   ],
   "source": [
    "wandb.login()"
   ]
  },
  {
   "cell_type": "code",
   "execution_count": 6,
   "metadata": {},
   "outputs": [
    {
     "name": "stderr",
     "output_type": "stream",
     "text": [
      "\u001b[34m\u001b[1mwandb\u001b[0m: Using wandb-core as the SDK backend.  Please refer to https://wandb.me/wandb-core for more information.\n"
     ]
    },
    {
     "data": {
      "text/html": [
       "Tracking run with wandb version 0.19.6"
      ],
      "text/plain": [
       "<IPython.core.display.HTML object>"
      ]
     },
     "metadata": {},
     "output_type": "display_data"
    },
    {
     "data": {
      "text/html": [
       "Run data is saved locally in <code>d:\\FYP Code\\wandb\\run-20250213_193913-wnrp9qj6</code>"
      ],
      "text/plain": [
       "<IPython.core.display.HTML object>"
      ]
     },
     "metadata": {},
     "output_type": "display_data"
    },
    {
     "data": {
      "text/html": [
       "Syncing run <strong><a href='https://wandb.ai/object-detection-glottis-fyp/YOLOv8-demo/runs/wnrp9qj6' target=\"_blank\">vocal-deluge-7</a></strong> to <a href='https://wandb.ai/object-detection-glottis-fyp/YOLOv8-demo' target=\"_blank\">Weights & Biases</a> (<a href='https://wandb.me/developer-guide' target=\"_blank\">docs</a>)<br>"
      ],
      "text/plain": [
       "<IPython.core.display.HTML object>"
      ]
     },
     "metadata": {},
     "output_type": "display_data"
    },
    {
     "data": {
      "text/html": [
       " View project at <a href='https://wandb.ai/object-detection-glottis-fyp/YOLOv8-demo' target=\"_blank\">https://wandb.ai/object-detection-glottis-fyp/YOLOv8-demo</a>"
      ],
      "text/plain": [
       "<IPython.core.display.HTML object>"
      ]
     },
     "metadata": {},
     "output_type": "display_data"
    },
    {
     "data": {
      "text/html": [
       " View run at <a href='https://wandb.ai/object-detection-glottis-fyp/YOLOv8-demo/runs/wnrp9qj6' target=\"_blank\">https://wandb.ai/object-detection-glottis-fyp/YOLOv8-demo/runs/wnrp9qj6</a>"
      ],
      "text/plain": [
       "<IPython.core.display.HTML object>"
      ]
     },
     "metadata": {},
     "output_type": "display_data"
    },
    {
     "data": {
      "text/html": [
       "<button onClick=\"this.nextSibling.style.display='block';this.style.display='none';\">Display W&B run</button><iframe src='https://wandb.ai/object-detection-glottis-fyp/YOLOv8-demo/runs/wnrp9qj6?jupyter=true' style='border:none;width:100%;height:420px;display:none;'></iframe>"
      ],
      "text/plain": [
       "<wandb.sdk.wandb_run.Run at 0x1f97045fac0>"
      ]
     },
     "execution_count": 6,
     "metadata": {},
     "output_type": "execute_result"
    }
   ],
   "source": [
    "wandb.init(project='YOLOv8-demo')"
   ]
  },
  {
   "cell_type": "code",
   "execution_count": 7,
   "metadata": {},
   "outputs": [
    {
     "name": "stdout",
     "output_type": "stream",
     "text": [
      "New https://pypi.org/project/ultralytics/8.3.75 available  Update with 'pip install -U ultralytics'\n",
      "Ultralytics 8.3.62  Python-3.10.8 torch-2.6.0+cu118 CUDA:0 (NVIDIA GeForce GTX 1660 SUPER, 6144MiB)\n",
      "\u001b[34m\u001b[1mengine\\trainer: \u001b[0mtask=detect, mode=train, model=yolov8n.pt, data=data.yaml, epochs=5, time=None, patience=5, batch=4, imgsz=640, save=False, save_period=5, cache=False, device=0, workers=1, project=weights, name=try2, exist_ok=False, pretrained=True, optimizer=auto, verbose=True, seed=0, deterministic=True, single_cls=False, rect=False, cos_lr=False, close_mosaic=10, resume=False, amp=False, fraction=0.1, profile=False, freeze=None, multi_scale=False, overlap_mask=True, mask_ratio=4, dropout=0.0, val=True, split=val, save_json=False, save_hybrid=False, conf=0.01, iou=0.6, max_det=300, half=True, dnn=False, plots=True, source=None, vid_stride=1, stream_buffer=False, visualize=False, augment=False, agnostic_nms=False, classes=None, retina_masks=False, embed=None, show=False, save_frames=False, save_txt=False, save_conf=False, save_crop=False, show_labels=True, show_conf=True, show_boxes=True, line_width=None, format=torchscript, keras=False, optimize=False, int8=False, dynamic=False, simplify=True, opset=None, workspace=None, nms=False, lr0=0.01, lrf=0.01, momentum=0.937, weight_decay=0.0005, warmup_epochs=3.0, warmup_momentum=0.8, warmup_bias_lr=0.1, box=7.5, cls=0.5, dfl=1.5, pose=12.0, kobj=1.0, nbs=64, hsv_h=0.015, hsv_s=0.7, hsv_v=0.4, degrees=0.0, translate=0.1, scale=0.5, shear=0.0, perspective=0.0, flipud=0.0, fliplr=0.5, bgr=0.0, mosaic=1.0, mixup=0.0, copy_paste=0.0, copy_paste_mode=flip, auto_augment=randaugment, erasing=0.4, crop_fraction=1.0, cfg=None, tracker=botsort.yaml, save_dir=weights\\try2\n",
      "Overriding model.yaml nc=80 with nc=6\n",
      "\n",
      "                   from  n    params  module                                       arguments                     \n",
      "  0                  -1  1       464  ultralytics.nn.modules.conv.Conv             [3, 16, 3, 2]                 \n",
      "  1                  -1  1      4672  ultralytics.nn.modules.conv.Conv             [16, 32, 3, 2]                \n",
      "  2                  -1  1      7360  ultralytics.nn.modules.block.C2f             [32, 32, 1, True]             \n",
      "  3                  -1  1     18560  ultralytics.nn.modules.conv.Conv             [32, 64, 3, 2]                \n",
      "  4                  -1  2     49664  ultralytics.nn.modules.block.C2f             [64, 64, 2, True]             \n",
      "  5                  -1  1     73984  ultralytics.nn.modules.conv.Conv             [64, 128, 3, 2]               \n",
      "  6                  -1  2    197632  ultralytics.nn.modules.block.C2f             [128, 128, 2, True]           \n",
      "  7                  -1  1    295424  ultralytics.nn.modules.conv.Conv             [128, 256, 3, 2]              \n",
      "  8                  -1  1    460288  ultralytics.nn.modules.block.C2f             [256, 256, 1, True]           \n",
      "  9                  -1  1    164608  ultralytics.nn.modules.block.SPPF            [256, 256, 5]                 \n",
      " 10                  -1  1         0  torch.nn.modules.upsampling.Upsample         [None, 2, 'nearest']          \n",
      " 11             [-1, 6]  1         0  ultralytics.nn.modules.conv.Concat           [1]                           \n",
      " 12                  -1  1    148224  ultralytics.nn.modules.block.C2f             [384, 128, 1]                 \n",
      " 13                  -1  1         0  torch.nn.modules.upsampling.Upsample         [None, 2, 'nearest']          \n",
      " 14             [-1, 4]  1         0  ultralytics.nn.modules.conv.Concat           [1]                           \n",
      " 15                  -1  1     37248  ultralytics.nn.modules.block.C2f             [192, 64, 1]                  \n",
      " 16                  -1  1     36992  ultralytics.nn.modules.conv.Conv             [64, 64, 3, 2]                \n",
      " 17            [-1, 12]  1         0  ultralytics.nn.modules.conv.Concat           [1]                           \n",
      " 18                  -1  1    123648  ultralytics.nn.modules.block.C2f             [192, 128, 1]                 \n",
      " 19                  -1  1    147712  ultralytics.nn.modules.conv.Conv             [128, 128, 3, 2]              \n",
      " 20             [-1, 9]  1         0  ultralytics.nn.modules.conv.Concat           [1]                           \n",
      " 21                  -1  1    493056  ultralytics.nn.modules.block.C2f             [384, 256, 1]                 \n",
      " 22        [15, 18, 21]  1    752482  ultralytics.nn.modules.head.Detect           [6, [64, 128, 256]]           \n",
      "Model summary: 225 layers, 3,012,018 parameters, 3,012,002 gradients, 8.2 GFLOPs\n",
      "\n",
      "Transferred 319/355 items from pretrained weights\n",
      "\u001b[34m\u001b[1mTensorBoard: \u001b[0mStart with 'tensorboard --logdir weights\\try2', view at http://localhost:6006/\n",
      "Freezing layer 'model.22.dfl.conv.weight'\n"
     ]
    },
    {
     "name": "stderr",
     "output_type": "stream",
     "text": [
      "\u001b[34m\u001b[1mtrain: \u001b[0mScanning D:\\FYP Datasets\\fyp\\training\\train\\labels.cache... 4740 images, 296 backgrounds, 0 corrupt: 100%|██████████| 4740/4740 [00:00<?, ?it/s]\n",
      "\u001b[34m\u001b[1mval: \u001b[0mScanning D:\\FYP Datasets\\fyp\\training\\val\\labels.cache... 10665 images, 696 backgrounds, 0 corrupt: 100%|██████████| 10665/10665 [00:00<?, ?it/s]\n"
     ]
    },
    {
     "name": "stdout",
     "output_type": "stream",
     "text": [
      "Plotting labels to weights\\try2\\labels.jpg... \n",
      "\u001b[34m\u001b[1moptimizer:\u001b[0m 'optimizer=auto' found, ignoring 'lr0=0.01' and 'momentum=0.937' and determining best 'optimizer', 'lr0' and 'momentum' automatically... \n",
      "\u001b[34m\u001b[1moptimizer:\u001b[0m AdamW(lr=0.001, momentum=0.9) with parameter groups 57 weight(decay=0.0), 64 weight(decay=0.0005), 63 bias(decay=0.0)\n",
      "\u001b[34m\u001b[1mTensorBoard: \u001b[0mmodel graph visualization added \n",
      "Image sizes 640 train, 640 val\n",
      "Using 1 dataloader workers\n",
      "Logging results to \u001b[1mweights\\try2\u001b[0m\n",
      "Starting training for 5 epochs...\n",
      "\n",
      "      Epoch    GPU_mem   box_loss   cls_loss   dfl_loss  Instances       Size\n"
     ]
    },
    {
     "name": "stderr",
     "output_type": "stream",
     "text": [
      "        1/5      1.11G      1.455      2.359      1.199         10        640: 100%|██████████| 1185/1185 [02:24<00:00,  8.20it/s]\n",
      "                 Class     Images  Instances      Box(P          R      mAP50  mAP50-95): 100%|██████████| 1334/1334 [01:36<00:00, 13.78it/s]"
     ]
    },
    {
     "name": "stdout",
     "output_type": "stream",
     "text": [
      "                   all      10665       9969      0.815      0.738      0.799      0.542\n"
     ]
    },
    {
     "name": "stderr",
     "output_type": "stream",
     "text": [
      "\n"
     ]
    },
    {
     "name": "stdout",
     "output_type": "stream",
     "text": [
      "\n",
      "      Epoch    GPU_mem   box_loss   cls_loss   dfl_loss  Instances       Size\n"
     ]
    },
    {
     "name": "stderr",
     "output_type": "stream",
     "text": [
      "        2/5      1.11G      1.264      1.195      1.104          6        640: 100%|██████████| 1185/1185 [01:51<00:00, 10.67it/s]\n",
      "                 Class     Images  Instances      Box(P          R      mAP50  mAP50-95): 100%|██████████| 1334/1334 [01:23<00:00, 16.05it/s]"
     ]
    },
    {
     "name": "stdout",
     "output_type": "stream",
     "text": [
      "                   all      10665       9969      0.814      0.786      0.808      0.513\n"
     ]
    },
    {
     "name": "stderr",
     "output_type": "stream",
     "text": [
      "\n"
     ]
    },
    {
     "name": "stdout",
     "output_type": "stream",
     "text": [
      "\n",
      "      Epoch    GPU_mem   box_loss   cls_loss   dfl_loss  Instances       Size\n"
     ]
    },
    {
     "name": "stderr",
     "output_type": "stream",
     "text": [
      "        3/5      1.11G      1.208     0.9509      1.074          9        640: 100%|██████████| 1185/1185 [01:50<00:00, 10.69it/s]\n",
      "                 Class     Images  Instances      Box(P          R      mAP50  mAP50-95): 100%|██████████| 1334/1334 [01:22<00:00, 16.11it/s]"
     ]
    },
    {
     "name": "stdout",
     "output_type": "stream",
     "text": [
      "                   all      10665       9969      0.853      0.781      0.837      0.578\n"
     ]
    },
    {
     "name": "stderr",
     "output_type": "stream",
     "text": [
      "\n"
     ]
    },
    {
     "name": "stdout",
     "output_type": "stream",
     "text": [
      "\n",
      "      Epoch    GPU_mem   box_loss   cls_loss   dfl_loss  Instances       Size\n"
     ]
    },
    {
     "name": "stderr",
     "output_type": "stream",
     "text": [
      "        4/5      1.11G      1.132     0.8397      1.043          6        640: 100%|██████████| 1185/1185 [01:51<00:00, 10.66it/s]\n",
      "                 Class     Images  Instances      Box(P          R      mAP50  mAP50-95): 100%|██████████| 1334/1334 [01:23<00:00, 15.98it/s]"
     ]
    },
    {
     "name": "stdout",
     "output_type": "stream",
     "text": [
      "                   all      10665       9969      0.863      0.836      0.871      0.629\n"
     ]
    },
    {
     "name": "stderr",
     "output_type": "stream",
     "text": [
      "\n"
     ]
    },
    {
     "name": "stdout",
     "output_type": "stream",
     "text": [
      "\n",
      "      Epoch    GPU_mem   box_loss   cls_loss   dfl_loss  Instances       Size\n"
     ]
    },
    {
     "name": "stderr",
     "output_type": "stream",
     "text": [
      "        5/5      1.11G      1.033     0.7502      1.016          7        640: 100%|██████████| 1185/1185 [01:51<00:00, 10.62it/s]\n",
      "                 Class     Images  Instances      Box(P          R      mAP50  mAP50-95): 100%|██████████| 1334/1334 [01:25<00:00, 15.61it/s]\n"
     ]
    },
    {
     "name": "stdout",
     "output_type": "stream",
     "text": [
      "                   all      10665       9969      0.876      0.854      0.878      0.664\n",
      "\n",
      "5 epochs completed in 0.285 hours.\n",
      "Optimizer stripped from weights\\try2\\weights\\last.pt, 6.2MB\n",
      "Optimizer stripped from weights\\try2\\weights\\best.pt, 6.2MB\n",
      "\n",
      "Validating weights\\try2\\weights\\best.pt...\n",
      "Ultralytics 8.3.62  Python-3.10.8 torch-2.6.0+cu118 CUDA:0 (NVIDIA GeForce GTX 1660 SUPER, 6144MiB)\n",
      "Model summary (fused): 168 layers, 3,006,818 parameters, 0 gradients, 8.1 GFLOPs\n"
     ]
    },
    {
     "name": "stderr",
     "output_type": "stream",
     "text": [
      "                 Class     Images  Instances      Box(P          R      mAP50  mAP50-95): 100%|██████████| 1334/1334 [01:18<00:00, 16.91it/s]\n"
     ]
    },
    {
     "name": "stdout",
     "output_type": "stream",
     "text": [
      "                   all      10665       9969      0.877      0.853      0.879      0.664\n",
      "               Glottis       9969       9969      0.877      0.853      0.879      0.664\n",
      "Speed: 0.3ms preprocess, 2.7ms inference, 0.0ms loss, 1.0ms postprocess per image\n",
      "Results saved to \u001b[1mweights\\try2\u001b[0m\n"
     ]
    }
   ],
   "source": [
    "results = model.train(**args)\n"
   ]
  },
  {
   "cell_type": "code",
   "execution_count": null,
   "metadata": {},
   "outputs": [
    {
     "name": "stdout",
     "output_type": "stream",
     "text": [
      "ultralytics.utils.metrics.DetMetrics object with attributes:\n",
      "\n",
      "ap_class_index: array([3])\n",
      "box: ultralytics.utils.metrics.Metric object\n",
      "confusion_matrix: <ultralytics.utils.metrics.ConfusionMatrix object at 0x000001F923BA7FA0>\n",
      "curves: ['Precision-Recall(B)', 'F1-Confidence(B)', 'Precision-Confidence(B)', 'Recall-Confidence(B)']\n",
      "curves_results: [[array([          0,    0.001001,    0.002002,    0.003003,    0.004004,    0.005005,    0.006006,    0.007007,    0.008008,    0.009009,     0.01001,    0.011011,    0.012012,    0.013013,    0.014014,    0.015015,    0.016016,    0.017017,    0.018018,    0.019019,     0.02002,    0.021021,    0.022022,    0.023023,\n",
      "          0.024024,    0.025025,    0.026026,    0.027027,    0.028028,    0.029029,     0.03003,    0.031031,    0.032032,    0.033033,    0.034034,    0.035035,    0.036036,    0.037037,    0.038038,    0.039039,     0.04004,    0.041041,    0.042042,    0.043043,    0.044044,    0.045045,    0.046046,    0.047047,\n",
      "          0.048048,    0.049049,     0.05005,    0.051051,    0.052052,    0.053053,    0.054054,    0.055055,    0.056056,    0.057057,    0.058058,    0.059059,     0.06006,    0.061061,    0.062062,    0.063063,    0.064064,    0.065065,    0.066066,    0.067067,    0.068068,    0.069069,     0.07007,    0.071071,\n",
      "          0.072072,    0.073073,    0.074074,    0.075075,    0.076076,    0.077077,    0.078078,    0.079079,     0.08008,    0.081081,    0.082082,    0.083083,    0.084084,    0.085085,    0.086086,    0.087087,    0.088088,    0.089089,     0.09009,    0.091091,    0.092092,    0.093093,    0.094094,    0.095095,\n",
      "          0.096096,    0.097097,    0.098098,    0.099099,      0.1001,      0.1011,      0.1021,      0.1031,      0.1041,     0.10511,     0.10611,     0.10711,     0.10811,     0.10911,     0.11011,     0.11111,     0.11211,     0.11311,     0.11411,     0.11512,     0.11612,     0.11712,     0.11812,     0.11912,\n",
      "           0.12012,     0.12112,     0.12212,     0.12312,     0.12412,     0.12513,     0.12613,     0.12713,     0.12813,     0.12913,     0.13013,     0.13113,     0.13213,     0.13313,     0.13413,     0.13514,     0.13614,     0.13714,     0.13814,     0.13914,     0.14014,     0.14114,     0.14214,     0.14314,\n",
      "           0.14414,     0.14515,     0.14615,     0.14715,     0.14815,     0.14915,     0.15015,     0.15115,     0.15215,     0.15315,     0.15415,     0.15516,     0.15616,     0.15716,     0.15816,     0.15916,     0.16016,     0.16116,     0.16216,     0.16316,     0.16416,     0.16517,     0.16617,     0.16717,\n",
      "           0.16817,     0.16917,     0.17017,     0.17117,     0.17217,     0.17317,     0.17417,     0.17518,     0.17618,     0.17718,     0.17818,     0.17918,     0.18018,     0.18118,     0.18218,     0.18318,     0.18418,     0.18519,     0.18619,     0.18719,     0.18819,     0.18919,     0.19019,     0.19119,\n",
      "           0.19219,     0.19319,     0.19419,      0.1952,      0.1962,      0.1972,      0.1982,      0.1992,      0.2002,      0.2012,      0.2022,      0.2032,      0.2042,     0.20521,     0.20621,     0.20721,     0.20821,     0.20921,     0.21021,     0.21121,     0.21221,     0.21321,     0.21421,     0.21522,\n",
      "           0.21622,     0.21722,     0.21822,     0.21922,     0.22022,     0.22122,     0.22222,     0.22322,     0.22422,     0.22523,     0.22623,     0.22723,     0.22823,     0.22923,     0.23023,     0.23123,     0.23223,     0.23323,     0.23423,     0.23524,     0.23624,     0.23724,     0.23824,     0.23924,\n",
      "           0.24024,     0.24124,     0.24224,     0.24324,     0.24424,     0.24525,     0.24625,     0.24725,     0.24825,     0.24925,     0.25025,     0.25125,     0.25225,     0.25325,     0.25425,     0.25526,     0.25626,     0.25726,     0.25826,     0.25926,     0.26026,     0.26126,     0.26226,     0.26326,\n",
      "           0.26426,     0.26527,     0.26627,     0.26727,     0.26827,     0.26927,     0.27027,     0.27127,     0.27227,     0.27327,     0.27427,     0.27528,     0.27628,     0.27728,     0.27828,     0.27928,     0.28028,     0.28128,     0.28228,     0.28328,     0.28428,     0.28529,     0.28629,     0.28729,\n",
      "           0.28829,     0.28929,     0.29029,     0.29129,     0.29229,     0.29329,     0.29429,      0.2953,      0.2963,      0.2973,      0.2983,      0.2993,      0.3003,      0.3013,      0.3023,      0.3033,      0.3043,     0.30531,     0.30631,     0.30731,     0.30831,     0.30931,     0.31031,     0.31131,\n",
      "           0.31231,     0.31331,     0.31431,     0.31532,     0.31632,     0.31732,     0.31832,     0.31932,     0.32032,     0.32132,     0.32232,     0.32332,     0.32432,     0.32533,     0.32633,     0.32733,     0.32833,     0.32933,     0.33033,     0.33133,     0.33233,     0.33333,     0.33433,     0.33534,\n",
      "           0.33634,     0.33734,     0.33834,     0.33934,     0.34034,     0.34134,     0.34234,     0.34334,     0.34434,     0.34535,     0.34635,     0.34735,     0.34835,     0.34935,     0.35035,     0.35135,     0.35235,     0.35335,     0.35435,     0.35536,     0.35636,     0.35736,     0.35836,     0.35936,\n",
      "           0.36036,     0.36136,     0.36236,     0.36336,     0.36436,     0.36537,     0.36637,     0.36737,     0.36837,     0.36937,     0.37037,     0.37137,     0.37237,     0.37337,     0.37437,     0.37538,     0.37638,     0.37738,     0.37838,     0.37938,     0.38038,     0.38138,     0.38238,     0.38338,\n",
      "           0.38438,     0.38539,     0.38639,     0.38739,     0.38839,     0.38939,     0.39039,     0.39139,     0.39239,     0.39339,     0.39439,      0.3954,      0.3964,      0.3974,      0.3984,      0.3994,      0.4004,      0.4014,      0.4024,      0.4034,      0.4044,     0.40541,     0.40641,     0.40741,\n",
      "           0.40841,     0.40941,     0.41041,     0.41141,     0.41241,     0.41341,     0.41441,     0.41542,     0.41642,     0.41742,     0.41842,     0.41942,     0.42042,     0.42142,     0.42242,     0.42342,     0.42442,     0.42543,     0.42643,     0.42743,     0.42843,     0.42943,     0.43043,     0.43143,\n",
      "           0.43243,     0.43343,     0.43443,     0.43544,     0.43644,     0.43744,     0.43844,     0.43944,     0.44044,     0.44144,     0.44244,     0.44344,     0.44444,     0.44545,     0.44645,     0.44745,     0.44845,     0.44945,     0.45045,     0.45145,     0.45245,     0.45345,     0.45445,     0.45546,\n",
      "           0.45646,     0.45746,     0.45846,     0.45946,     0.46046,     0.46146,     0.46246,     0.46346,     0.46446,     0.46547,     0.46647,     0.46747,     0.46847,     0.46947,     0.47047,     0.47147,     0.47247,     0.47347,     0.47447,     0.47548,     0.47648,     0.47748,     0.47848,     0.47948,\n",
      "           0.48048,     0.48148,     0.48248,     0.48348,     0.48448,     0.48549,     0.48649,     0.48749,     0.48849,     0.48949,     0.49049,     0.49149,     0.49249,     0.49349,     0.49449,      0.4955,      0.4965,      0.4975,      0.4985,      0.4995,      0.5005,      0.5015,      0.5025,      0.5035,\n",
      "            0.5045,     0.50551,     0.50651,     0.50751,     0.50851,     0.50951,     0.51051,     0.51151,     0.51251,     0.51351,     0.51451,     0.51552,     0.51652,     0.51752,     0.51852,     0.51952,     0.52052,     0.52152,     0.52252,     0.52352,     0.52452,     0.52553,     0.52653,     0.52753,\n",
      "           0.52853,     0.52953,     0.53053,     0.53153,     0.53253,     0.53353,     0.53453,     0.53554,     0.53654,     0.53754,     0.53854,     0.53954,     0.54054,     0.54154,     0.54254,     0.54354,     0.54454,     0.54555,     0.54655,     0.54755,     0.54855,     0.54955,     0.55055,     0.55155,\n",
      "           0.55255,     0.55355,     0.55455,     0.55556,     0.55656,     0.55756,     0.55856,     0.55956,     0.56056,     0.56156,     0.56256,     0.56356,     0.56456,     0.56557,     0.56657,     0.56757,     0.56857,     0.56957,     0.57057,     0.57157,     0.57257,     0.57357,     0.57457,     0.57558,\n",
      "           0.57658,     0.57758,     0.57858,     0.57958,     0.58058,     0.58158,     0.58258,     0.58358,     0.58458,     0.58559,     0.58659,     0.58759,     0.58859,     0.58959,     0.59059,     0.59159,     0.59259,     0.59359,     0.59459,      0.5956,      0.5966,      0.5976,      0.5986,      0.5996,\n",
      "            0.6006,      0.6016,      0.6026,      0.6036,      0.6046,     0.60561,     0.60661,     0.60761,     0.60861,     0.60961,     0.61061,     0.61161,     0.61261,     0.61361,     0.61461,     0.61562,     0.61662,     0.61762,     0.61862,     0.61962,     0.62062,     0.62162,     0.62262,     0.62362,\n",
      "           0.62462,     0.62563,     0.62663,     0.62763,     0.62863,     0.62963,     0.63063,     0.63163,     0.63263,     0.63363,     0.63463,     0.63564,     0.63664,     0.63764,     0.63864,     0.63964,     0.64064,     0.64164,     0.64264,     0.64364,     0.64464,     0.64565,     0.64665,     0.64765,\n",
      "           0.64865,     0.64965,     0.65065,     0.65165,     0.65265,     0.65365,     0.65465,     0.65566,     0.65666,     0.65766,     0.65866,     0.65966,     0.66066,     0.66166,     0.66266,     0.66366,     0.66466,     0.66567,     0.66667,     0.66767,     0.66867,     0.66967,     0.67067,     0.67167,\n",
      "           0.67267,     0.67367,     0.67467,     0.67568,     0.67668,     0.67768,     0.67868,     0.67968,     0.68068,     0.68168,     0.68268,     0.68368,     0.68468,     0.68569,     0.68669,     0.68769,     0.68869,     0.68969,     0.69069,     0.69169,     0.69269,     0.69369,     0.69469,      0.6957,\n",
      "            0.6967,      0.6977,      0.6987,      0.6997,      0.7007,      0.7017,      0.7027,      0.7037,      0.7047,     0.70571,     0.70671,     0.70771,     0.70871,     0.70971,     0.71071,     0.71171,     0.71271,     0.71371,     0.71471,     0.71572,     0.71672,     0.71772,     0.71872,     0.71972,\n",
      "           0.72072,     0.72172,     0.72272,     0.72372,     0.72472,     0.72573,     0.72673,     0.72773,     0.72873,     0.72973,     0.73073,     0.73173,     0.73273,     0.73373,     0.73473,     0.73574,     0.73674,     0.73774,     0.73874,     0.73974,     0.74074,     0.74174,     0.74274,     0.74374,\n",
      "           0.74474,     0.74575,     0.74675,     0.74775,     0.74875,     0.74975,     0.75075,     0.75175,     0.75275,     0.75375,     0.75475,     0.75576,     0.75676,     0.75776,     0.75876,     0.75976,     0.76076,     0.76176,     0.76276,     0.76376,     0.76476,     0.76577,     0.76677,     0.76777,\n",
      "           0.76877,     0.76977,     0.77077,     0.77177,     0.77277,     0.77377,     0.77477,     0.77578,     0.77678,     0.77778,     0.77878,     0.77978,     0.78078,     0.78178,     0.78278,     0.78378,     0.78478,     0.78579,     0.78679,     0.78779,     0.78879,     0.78979,     0.79079,     0.79179,\n",
      "           0.79279,     0.79379,     0.79479,      0.7958,      0.7968,      0.7978,      0.7988,      0.7998,      0.8008,      0.8018,      0.8028,      0.8038,      0.8048,     0.80581,     0.80681,     0.80781,     0.80881,     0.80981,     0.81081,     0.81181,     0.81281,     0.81381,     0.81481,     0.81582,\n",
      "           0.81682,     0.81782,     0.81882,     0.81982,     0.82082,     0.82182,     0.82282,     0.82382,     0.82482,     0.82583,     0.82683,     0.82783,     0.82883,     0.82983,     0.83083,     0.83183,     0.83283,     0.83383,     0.83483,     0.83584,     0.83684,     0.83784,     0.83884,     0.83984,\n",
      "           0.84084,     0.84184,     0.84284,     0.84384,     0.84484,     0.84585,     0.84685,     0.84785,     0.84885,     0.84985,     0.85085,     0.85185,     0.85285,     0.85385,     0.85485,     0.85586,     0.85686,     0.85786,     0.85886,     0.85986,     0.86086,     0.86186,     0.86286,     0.86386,\n",
      "           0.86486,     0.86587,     0.86687,     0.86787,     0.86887,     0.86987,     0.87087,     0.87187,     0.87287,     0.87387,     0.87487,     0.87588,     0.87688,     0.87788,     0.87888,     0.87988,     0.88088,     0.88188,     0.88288,     0.88388,     0.88488,     0.88589,     0.88689,     0.88789,\n",
      "           0.88889,     0.88989,     0.89089,     0.89189,     0.89289,     0.89389,     0.89489,      0.8959,      0.8969,      0.8979,      0.8989,      0.8999,      0.9009,      0.9019,      0.9029,      0.9039,      0.9049,     0.90591,     0.90691,     0.90791,     0.90891,     0.90991,     0.91091,     0.91191,\n",
      "           0.91291,     0.91391,     0.91491,     0.91592,     0.91692,     0.91792,     0.91892,     0.91992,     0.92092,     0.92192,     0.92292,     0.92392,     0.92492,     0.92593,     0.92693,     0.92793,     0.92893,     0.92993,     0.93093,     0.93193,     0.93293,     0.93393,     0.93493,     0.93594,\n",
      "           0.93694,     0.93794,     0.93894,     0.93994,     0.94094,     0.94194,     0.94294,     0.94394,     0.94494,     0.94595,     0.94695,     0.94795,     0.94895,     0.94995,     0.95095,     0.95195,     0.95295,     0.95395,     0.95495,     0.95596,     0.95696,     0.95796,     0.95896,     0.95996,\n",
      "           0.96096,     0.96196,     0.96296,     0.96396,     0.96496,     0.96597,     0.96697,     0.96797,     0.96897,     0.96997,     0.97097,     0.97197,     0.97297,     0.97397,     0.97497,     0.97598,     0.97698,     0.97798,     0.97898,     0.97998,     0.98098,     0.98198,     0.98298,     0.98398,\n",
      "           0.98498,     0.98599,     0.98699,     0.98799,     0.98899,     0.98999,     0.99099,     0.99199,     0.99299,     0.99399,     0.99499,       0.996,       0.997,       0.998,       0.999,           1]), array([[          1,           1,           1,           1,           1,      0.9916,      0.9916,      0.9916,      0.9916,      0.9916,      0.9916,      0.9916,     0.98582,     0.98582,     0.98352,     0.98352,     0.98352,     0.98352,     0.98069,     0.98069,     0.98069,     0.98069,     0.98069,\n",
      "            0.98069,     0.98069,     0.98069,     0.97753,     0.97712,     0.97712,     0.97712,      0.9766,      0.9766,      0.9766,      0.9766,      0.9766,      0.9766,      0.9766,      0.9766,      0.9766,      0.9766,      0.9766,      0.9766,      0.9766,      0.9766,      0.9766,      0.9766,\n",
      "            0.97556,     0.97556,     0.97556,     0.97451,     0.97292,     0.97163,     0.97163,     0.97163,     0.97163,     0.97159,     0.97159,     0.97159,     0.97159,     0.97159,     0.97159,     0.97159,     0.97159,     0.97159,     0.97159,     0.97159,     0.97159,     0.97159,     0.97159,\n",
      "            0.97159,     0.97159,     0.97159,     0.97159,     0.97159,     0.97159,     0.97159,     0.97159,     0.97159,     0.97159,     0.97159,     0.97159,     0.97159,     0.97159,     0.97159,     0.97159,     0.97159,     0.97159,     0.97159,     0.97159,     0.97159,     0.97159,     0.97159,\n",
      "            0.97159,     0.97159,     0.97159,     0.97159,     0.97159,     0.97159,     0.97159,     0.97159,     0.97159,     0.97159,     0.97159,     0.97159,     0.97159,     0.97159,     0.97159,     0.97159,     0.97159,     0.97159,     0.97159,     0.97159,     0.97159,     0.97159,     0.97159,\n",
      "            0.97159,     0.97159,     0.97159,     0.97159,     0.97159,     0.97159,     0.97159,     0.97159,     0.97159,     0.97159,     0.97159,     0.97159,     0.97159,     0.97159,     0.97159,     0.97159,     0.97159,     0.97159,     0.97159,     0.97159,     0.97159,     0.97159,     0.97159,\n",
      "            0.97159,     0.97159,     0.97159,     0.97159,     0.97159,     0.97159,     0.97159,     0.97159,     0.97159,     0.97159,     0.97159,     0.97159,     0.97159,     0.97159,     0.97159,     0.97159,     0.97159,     0.97159,     0.97159,     0.97159,     0.97159,     0.97159,     0.97159,\n",
      "            0.97159,     0.97159,     0.97159,     0.97159,     0.97159,     0.97159,     0.97159,     0.97159,     0.97159,     0.97159,     0.97159,     0.97159,     0.97159,     0.97159,     0.97064,      0.9703,     0.96986,     0.96917,     0.96917,     0.96917,     0.96917,     0.96917,     0.96917,\n",
      "            0.96917,     0.96917,      0.9688,     0.96862,     0.96862,     0.96843,     0.96843,     0.96829,     0.96829,     0.96829,     0.96829,     0.96829,     0.96816,     0.96816,     0.96816,     0.96816,     0.96816,     0.96816,     0.96816,     0.96816,     0.96816,     0.96759,     0.96759,\n",
      "            0.96759,     0.96759,     0.96759,     0.96759,     0.96759,     0.96759,     0.96759,     0.96759,     0.96759,     0.96759,     0.96759,     0.96759,     0.96759,     0.96759,     0.96759,     0.96736,     0.96736,     0.96736,     0.96736,     0.96736,     0.96736,     0.96736,     0.96736,\n",
      "            0.96736,     0.96736,     0.96726,     0.96726,     0.96726,     0.96726,     0.96726,     0.96726,     0.96726,     0.96726,     0.96726,     0.96726,     0.96726,     0.96726,     0.96726,     0.96726,     0.96726,     0.96726,     0.96726,     0.96726,     0.96726,     0.96726,     0.96726,\n",
      "            0.96726,     0.96726,     0.96726,     0.96726,     0.96726,     0.96726,     0.96726,     0.96726,     0.96726,     0.96726,     0.96726,     0.96726,     0.96726,     0.96726,     0.96726,     0.96726,     0.96726,     0.96726,     0.96726,     0.96726,     0.96726,     0.96726,     0.96726,\n",
      "            0.96726,     0.96726,     0.96726,     0.96726,     0.96726,     0.96726,     0.96726,     0.96726,     0.96726,     0.96714,     0.96714,     0.96706,     0.96706,     0.96697,     0.96697,     0.96689,     0.96689,     0.96689,     0.96689,     0.96689,     0.96663,     0.96645,     0.96641,\n",
      "            0.96641,     0.96629,     0.96629,     0.96578,     0.96556,     0.96556,     0.96556,     0.96556,     0.96516,     0.96516,     0.96502,       0.965,       0.965,       0.965,       0.965,       0.965,     0.96493,     0.96493,     0.96493,     0.96493,     0.96493,     0.96493,     0.96493,\n",
      "            0.96493,     0.96484,     0.96484,     0.96484,     0.96484,     0.96484,     0.96484,     0.96484,     0.96467,     0.96467,     0.96455,     0.96455,     0.96455,     0.96455,     0.96422,     0.96422,       0.964,     0.96333,     0.96311,     0.96305,     0.96305,     0.96305,     0.96305,\n",
      "            0.96303,     0.96303,     0.96303,     0.96303,     0.96303,     0.96303,     0.96303,     0.96303,     0.96303,     0.96303,     0.96303,     0.96303,     0.96303,     0.96303,     0.96303,     0.96303,     0.96299,     0.96299,     0.96282,     0.96236,     0.96236,     0.96236,     0.96236,\n",
      "            0.96236,     0.96236,     0.96236,     0.96236,     0.96236,     0.96236,     0.96236,     0.96236,     0.96236,     0.96216,     0.96208,     0.96206,     0.96206,     0.96206,     0.96206,     0.96206,     0.96206,     0.96206,     0.96206,     0.96206,     0.96206,     0.96206,     0.96206,\n",
      "            0.96206,     0.96206,     0.96206,     0.96206,     0.96206,     0.96206,     0.96206,     0.96206,     0.96206,     0.96206,     0.96206,     0.96206,     0.96206,     0.96206,     0.96153,     0.96134,     0.96134,     0.96134,     0.96125,     0.96125,     0.96121,     0.96121,     0.96114,\n",
      "            0.96099,     0.96087,     0.96087,     0.96087,     0.96087,     0.96083,     0.96083,     0.96058,     0.96058,     0.96054,     0.96054,     0.96043,     0.96043,     0.96043,     0.96043,     0.96043,     0.96043,     0.96037,     0.96037,     0.96037,     0.96037,     0.96037,     0.96037,\n",
      "            0.96037,     0.96037,     0.96037,     0.96037,     0.96037,     0.96037,     0.96007,     0.95992,     0.95992,     0.95992,     0.95992,     0.95992,     0.95992,     0.95992,     0.95992,     0.95992,     0.95992,     0.95985,     0.95985,     0.95985,     0.95985,     0.95985,     0.95985,\n",
      "            0.95966,     0.95959,     0.95959,     0.95959,     0.95959,     0.95909,     0.95885,     0.95885,     0.95885,     0.95885,     0.95878,     0.95878,     0.95878,     0.95878,     0.95854,     0.95854,     0.95854,     0.95854,     0.95854,     0.95854,     0.95854,     0.95854,     0.95854,\n",
      "            0.95854,     0.95854,     0.95827,     0.95826,     0.95826,     0.95826,     0.95826,     0.95826,     0.95826,     0.95826,     0.95826,     0.95826,     0.95823,     0.95823,     0.95821,     0.95821,     0.95813,     0.95798,     0.95798,     0.95798,      0.9579,      0.9579,      0.9579,\n",
      "             0.9579,      0.9579,      0.9579,      0.9579,      0.9579,      0.9579,      0.9579,      0.9579,      0.9579,      0.9579,      0.9579,      0.9579,     0.95762,     0.95751,     0.95726,     0.95724,     0.95724,      0.9572,      0.9572,     0.95715,     0.95715,     0.95712,     0.95696,\n",
      "            0.95693,     0.95693,     0.95693,     0.95693,     0.95693,     0.95693,     0.95693,     0.95693,     0.95681,     0.95676,     0.95652,     0.95652,     0.95652,     0.95652,     0.95597,     0.95597,     0.95597,     0.95597,     0.95597,     0.95597,     0.95597,     0.95597,     0.95597,\n",
      "            0.95597,     0.95586,     0.95575,     0.95534,      0.9548,      0.9546,      0.9546,     0.95455,     0.95455,     0.95455,     0.95455,     0.95455,     0.95455,     0.95455,     0.95455,     0.95429,     0.95429,     0.95417,     0.95405,     0.95405,     0.95405,     0.95405,     0.95405,\n",
      "            0.95397,     0.95381,     0.95381,      0.9534,     0.95289,     0.95255,     0.95255,      0.9524,      0.9524,     0.95198,      0.9519,      0.9519,      0.9519,      0.9519,      0.9519,      0.9519,     0.95178,     0.95169,     0.95169,     0.95169,     0.95164,     0.95154,     0.95152,\n",
      "            0.95149,     0.95149,     0.95149,     0.95149,     0.95149,     0.95149,     0.95132,     0.95132,      0.9511,     0.95079,     0.95079,     0.95079,     0.95079,     0.95079,      0.9507,     0.95064,     0.95052,     0.95045,     0.95042,     0.95042,     0.95042,     0.95042,     0.95042,\n",
      "            0.95042,     0.95042,     0.95042,     0.95042,     0.95036,     0.95012,     0.94984,     0.94984,     0.94983,     0.94983,     0.94983,     0.94971,     0.94953,     0.94924,     0.94924,     0.94902,     0.94852,     0.94793,     0.94793,     0.94793,     0.94791,     0.94778,     0.94758,\n",
      "            0.94738,     0.94738,     0.94734,     0.94734,     0.94704,     0.94695,     0.94687,     0.94673,     0.94647,     0.94591,     0.94583,     0.94563,     0.94522,     0.94522,     0.94483,      0.9447,     0.94438,     0.94436,     0.94432,     0.94426,     0.94394,     0.94358,     0.94351,\n",
      "            0.94298,     0.94286,     0.94276,     0.94276,      0.9426,     0.94257,     0.94233,     0.94188,     0.94131,     0.94115,     0.94109,     0.94096,     0.94089,     0.94074,     0.94057,     0.94044,     0.94028,     0.94011,     0.93991,     0.93975,     0.93969,     0.93939,     0.93939,\n",
      "            0.93936,     0.93916,     0.93899,     0.93896,     0.93896,     0.93896,     0.93866,     0.93823,      0.9382,     0.93802,     0.93777,     0.93777,     0.93777,     0.93773,     0.93773,     0.93738,     0.93738,     0.93718,     0.93695,     0.93692,     0.93681,     0.93665,      0.9364,\n",
      "            0.93623,     0.93619,     0.93619,     0.93619,     0.93605,     0.93605,       0.936,     0.93596,     0.93595,     0.93584,     0.93538,     0.93538,     0.93538,     0.93496,     0.93485,     0.93456,     0.93426,     0.93402,     0.93383,     0.93367,     0.93343,     0.93305,     0.93266,\n",
      "            0.93247,     0.93236,     0.93231,     0.93225,     0.93212,     0.93212,     0.93205,     0.93182,     0.93162,     0.93117,     0.93112,       0.931,     0.93097,     0.93086,     0.93086,     0.93076,     0.93059,     0.93024,     0.93016,     0.92981,     0.92946,     0.92939,     0.92902,\n",
      "            0.92888,     0.92862,     0.92839,     0.92839,     0.92832,     0.92795,      0.9275,     0.92722,     0.92709,     0.92696,     0.92672,     0.92617,      0.9261,      0.9252,     0.92495,     0.92472,     0.92435,     0.92402,     0.92333,     0.92319,     0.92262,     0.92232,     0.92197,\n",
      "            0.92148,     0.92136,      0.9209,     0.92058,     0.92058,     0.92011,     0.91978,     0.91912,     0.91871,     0.91858,     0.91795,     0.91735,     0.91673,     0.91648,     0.91576,     0.91556,     0.91521,     0.91479,     0.91465,     0.91352,     0.91297,     0.91225,     0.91205,\n",
      "             0.9115,     0.91048,     0.90995,     0.90975,     0.90926,     0.90905,     0.90843,      0.9078,     0.90729,      0.9061,      0.9057,     0.90478,     0.90428,     0.90331,     0.90329,     0.90302,     0.90222,     0.90133,     0.90025,     0.89958,     0.89811,     0.89734,     0.89687,\n",
      "             0.8963,     0.89564,     0.89547,     0.89499,     0.89444,     0.89382,     0.89338,     0.89285,     0.89249,     0.89215,     0.89139,     0.89058,      0.8901,     0.88844,     0.88817,     0.88718,     0.88626,     0.88433,     0.88381,      0.8825,     0.88138,     0.88123,     0.88025,\n",
      "            0.87983,     0.87733,     0.87618,     0.87505,     0.87473,     0.87361,     0.87221,      0.8704,     0.86896,     0.86801,       0.867,     0.86557,     0.86466,     0.86375,     0.86234,     0.85872,     0.85723,     0.85486,     0.85371,     0.85109,     0.84933,     0.84543,     0.84169,\n",
      "            0.84035,      0.8373,     0.83392,     0.82855,     0.82575,     0.82329,      0.8199,     0.81687,     0.81267,     0.80914,     0.80655,     0.79812,     0.79081,     0.78517,      0.7819,     0.77262,     0.76247,     0.75782,     0.75575,     0.74503,     0.73523,     0.72283,     0.71904,\n",
      "            0.71087,     0.69939,     0.68941,     0.67437,     0.65919,      0.6487,     0.62331,     0.60776,     0.56596,     0.53726,     0.52077,     0.47321,     0.44648,     0.44152,     0.43656,      0.4316,     0.42664,     0.42167,     0.41671,     0.41175,     0.40679,     0.40183,     0.39687,\n",
      "            0.39191,     0.38695,     0.38199,     0.37703,     0.37207,      0.3671,     0.36214,     0.35718,     0.35222,     0.34726,      0.3423,     0.33734,     0.33238,     0.32742,     0.32246,      0.3175,     0.31253,     0.30757,     0.30261,     0.29765,     0.29269,     0.28773,     0.28277,\n",
      "            0.27781,     0.27285,     0.26789,     0.26293,     0.25797,       0.253,     0.24804,     0.24308,     0.23812,     0.23316,      0.2282,     0.22324,     0.21828,     0.21332,     0.20836,      0.2034,     0.19843,     0.19347,     0.18851,     0.18355,     0.17859,     0.17363,     0.16867,\n",
      "            0.16371,     0.15875,     0.15379,     0.14883,     0.14387,      0.1389,     0.13394,     0.12898,     0.12402,     0.11906,      0.1141,     0.10914,     0.10418,    0.099217,    0.094257,    0.089296,    0.084335,    0.079374,    0.074413,    0.069452,    0.064491,     0.05953,     0.05457,\n",
      "           0.049609,    0.044648,    0.039687,    0.034726,    0.029765,    0.024804,    0.019843,    0.014883,   0.0099217,   0.0049609,           0]]), 'Recall', 'Precision'], [array([          0,    0.001001,    0.002002,    0.003003,    0.004004,    0.005005,    0.006006,    0.007007,    0.008008,    0.009009,     0.01001,    0.011011,    0.012012,    0.013013,    0.014014,    0.015015,    0.016016,    0.017017,    0.018018,    0.019019,     0.02002,    0.021021,    0.022022,    0.023023,\n",
      "          0.024024,    0.025025,    0.026026,    0.027027,    0.028028,    0.029029,     0.03003,    0.031031,    0.032032,    0.033033,    0.034034,    0.035035,    0.036036,    0.037037,    0.038038,    0.039039,     0.04004,    0.041041,    0.042042,    0.043043,    0.044044,    0.045045,    0.046046,    0.047047,\n",
      "          0.048048,    0.049049,     0.05005,    0.051051,    0.052052,    0.053053,    0.054054,    0.055055,    0.056056,    0.057057,    0.058058,    0.059059,     0.06006,    0.061061,    0.062062,    0.063063,    0.064064,    0.065065,    0.066066,    0.067067,    0.068068,    0.069069,     0.07007,    0.071071,\n",
      "          0.072072,    0.073073,    0.074074,    0.075075,    0.076076,    0.077077,    0.078078,    0.079079,     0.08008,    0.081081,    0.082082,    0.083083,    0.084084,    0.085085,    0.086086,    0.087087,    0.088088,    0.089089,     0.09009,    0.091091,    0.092092,    0.093093,    0.094094,    0.095095,\n",
      "          0.096096,    0.097097,    0.098098,    0.099099,      0.1001,      0.1011,      0.1021,      0.1031,      0.1041,     0.10511,     0.10611,     0.10711,     0.10811,     0.10911,     0.11011,     0.11111,     0.11211,     0.11311,     0.11411,     0.11512,     0.11612,     0.11712,     0.11812,     0.11912,\n",
      "           0.12012,     0.12112,     0.12212,     0.12312,     0.12412,     0.12513,     0.12613,     0.12713,     0.12813,     0.12913,     0.13013,     0.13113,     0.13213,     0.13313,     0.13413,     0.13514,     0.13614,     0.13714,     0.13814,     0.13914,     0.14014,     0.14114,     0.14214,     0.14314,\n",
      "           0.14414,     0.14515,     0.14615,     0.14715,     0.14815,     0.14915,     0.15015,     0.15115,     0.15215,     0.15315,     0.15415,     0.15516,     0.15616,     0.15716,     0.15816,     0.15916,     0.16016,     0.16116,     0.16216,     0.16316,     0.16416,     0.16517,     0.16617,     0.16717,\n",
      "           0.16817,     0.16917,     0.17017,     0.17117,     0.17217,     0.17317,     0.17417,     0.17518,     0.17618,     0.17718,     0.17818,     0.17918,     0.18018,     0.18118,     0.18218,     0.18318,     0.18418,     0.18519,     0.18619,     0.18719,     0.18819,     0.18919,     0.19019,     0.19119,\n",
      "           0.19219,     0.19319,     0.19419,      0.1952,      0.1962,      0.1972,      0.1982,      0.1992,      0.2002,      0.2012,      0.2022,      0.2032,      0.2042,     0.20521,     0.20621,     0.20721,     0.20821,     0.20921,     0.21021,     0.21121,     0.21221,     0.21321,     0.21421,     0.21522,\n",
      "           0.21622,     0.21722,     0.21822,     0.21922,     0.22022,     0.22122,     0.22222,     0.22322,     0.22422,     0.22523,     0.22623,     0.22723,     0.22823,     0.22923,     0.23023,     0.23123,     0.23223,     0.23323,     0.23423,     0.23524,     0.23624,     0.23724,     0.23824,     0.23924,\n",
      "           0.24024,     0.24124,     0.24224,     0.24324,     0.24424,     0.24525,     0.24625,     0.24725,     0.24825,     0.24925,     0.25025,     0.25125,     0.25225,     0.25325,     0.25425,     0.25526,     0.25626,     0.25726,     0.25826,     0.25926,     0.26026,     0.26126,     0.26226,     0.26326,\n",
      "           0.26426,     0.26527,     0.26627,     0.26727,     0.26827,     0.26927,     0.27027,     0.27127,     0.27227,     0.27327,     0.27427,     0.27528,     0.27628,     0.27728,     0.27828,     0.27928,     0.28028,     0.28128,     0.28228,     0.28328,     0.28428,     0.28529,     0.28629,     0.28729,\n",
      "           0.28829,     0.28929,     0.29029,     0.29129,     0.29229,     0.29329,     0.29429,      0.2953,      0.2963,      0.2973,      0.2983,      0.2993,      0.3003,      0.3013,      0.3023,      0.3033,      0.3043,     0.30531,     0.30631,     0.30731,     0.30831,     0.30931,     0.31031,     0.31131,\n",
      "           0.31231,     0.31331,     0.31431,     0.31532,     0.31632,     0.31732,     0.31832,     0.31932,     0.32032,     0.32132,     0.32232,     0.32332,     0.32432,     0.32533,     0.32633,     0.32733,     0.32833,     0.32933,     0.33033,     0.33133,     0.33233,     0.33333,     0.33433,     0.33534,\n",
      "           0.33634,     0.33734,     0.33834,     0.33934,     0.34034,     0.34134,     0.34234,     0.34334,     0.34434,     0.34535,     0.34635,     0.34735,     0.34835,     0.34935,     0.35035,     0.35135,     0.35235,     0.35335,     0.35435,     0.35536,     0.35636,     0.35736,     0.35836,     0.35936,\n",
      "           0.36036,     0.36136,     0.36236,     0.36336,     0.36436,     0.36537,     0.36637,     0.36737,     0.36837,     0.36937,     0.37037,     0.37137,     0.37237,     0.37337,     0.37437,     0.37538,     0.37638,     0.37738,     0.37838,     0.37938,     0.38038,     0.38138,     0.38238,     0.38338,\n",
      "           0.38438,     0.38539,     0.38639,     0.38739,     0.38839,     0.38939,     0.39039,     0.39139,     0.39239,     0.39339,     0.39439,      0.3954,      0.3964,      0.3974,      0.3984,      0.3994,      0.4004,      0.4014,      0.4024,      0.4034,      0.4044,     0.40541,     0.40641,     0.40741,\n",
      "           0.40841,     0.40941,     0.41041,     0.41141,     0.41241,     0.41341,     0.41441,     0.41542,     0.41642,     0.41742,     0.41842,     0.41942,     0.42042,     0.42142,     0.42242,     0.42342,     0.42442,     0.42543,     0.42643,     0.42743,     0.42843,     0.42943,     0.43043,     0.43143,\n",
      "           0.43243,     0.43343,     0.43443,     0.43544,     0.43644,     0.43744,     0.43844,     0.43944,     0.44044,     0.44144,     0.44244,     0.44344,     0.44444,     0.44545,     0.44645,     0.44745,     0.44845,     0.44945,     0.45045,     0.45145,     0.45245,     0.45345,     0.45445,     0.45546,\n",
      "           0.45646,     0.45746,     0.45846,     0.45946,     0.46046,     0.46146,     0.46246,     0.46346,     0.46446,     0.46547,     0.46647,     0.46747,     0.46847,     0.46947,     0.47047,     0.47147,     0.47247,     0.47347,     0.47447,     0.47548,     0.47648,     0.47748,     0.47848,     0.47948,\n",
      "           0.48048,     0.48148,     0.48248,     0.48348,     0.48448,     0.48549,     0.48649,     0.48749,     0.48849,     0.48949,     0.49049,     0.49149,     0.49249,     0.49349,     0.49449,      0.4955,      0.4965,      0.4975,      0.4985,      0.4995,      0.5005,      0.5015,      0.5025,      0.5035,\n",
      "            0.5045,     0.50551,     0.50651,     0.50751,     0.50851,     0.50951,     0.51051,     0.51151,     0.51251,     0.51351,     0.51451,     0.51552,     0.51652,     0.51752,     0.51852,     0.51952,     0.52052,     0.52152,     0.52252,     0.52352,     0.52452,     0.52553,     0.52653,     0.52753,\n",
      "           0.52853,     0.52953,     0.53053,     0.53153,     0.53253,     0.53353,     0.53453,     0.53554,     0.53654,     0.53754,     0.53854,     0.53954,     0.54054,     0.54154,     0.54254,     0.54354,     0.54454,     0.54555,     0.54655,     0.54755,     0.54855,     0.54955,     0.55055,     0.55155,\n",
      "           0.55255,     0.55355,     0.55455,     0.55556,     0.55656,     0.55756,     0.55856,     0.55956,     0.56056,     0.56156,     0.56256,     0.56356,     0.56456,     0.56557,     0.56657,     0.56757,     0.56857,     0.56957,     0.57057,     0.57157,     0.57257,     0.57357,     0.57457,     0.57558,\n",
      "           0.57658,     0.57758,     0.57858,     0.57958,     0.58058,     0.58158,     0.58258,     0.58358,     0.58458,     0.58559,     0.58659,     0.58759,     0.58859,     0.58959,     0.59059,     0.59159,     0.59259,     0.59359,     0.59459,      0.5956,      0.5966,      0.5976,      0.5986,      0.5996,\n",
      "            0.6006,      0.6016,      0.6026,      0.6036,      0.6046,     0.60561,     0.60661,     0.60761,     0.60861,     0.60961,     0.61061,     0.61161,     0.61261,     0.61361,     0.61461,     0.61562,     0.61662,     0.61762,     0.61862,     0.61962,     0.62062,     0.62162,     0.62262,     0.62362,\n",
      "           0.62462,     0.62563,     0.62663,     0.62763,     0.62863,     0.62963,     0.63063,     0.63163,     0.63263,     0.63363,     0.63463,     0.63564,     0.63664,     0.63764,     0.63864,     0.63964,     0.64064,     0.64164,     0.64264,     0.64364,     0.64464,     0.64565,     0.64665,     0.64765,\n",
      "           0.64865,     0.64965,     0.65065,     0.65165,     0.65265,     0.65365,     0.65465,     0.65566,     0.65666,     0.65766,     0.65866,     0.65966,     0.66066,     0.66166,     0.66266,     0.66366,     0.66466,     0.66567,     0.66667,     0.66767,     0.66867,     0.66967,     0.67067,     0.67167,\n",
      "           0.67267,     0.67367,     0.67467,     0.67568,     0.67668,     0.67768,     0.67868,     0.67968,     0.68068,     0.68168,     0.68268,     0.68368,     0.68468,     0.68569,     0.68669,     0.68769,     0.68869,     0.68969,     0.69069,     0.69169,     0.69269,     0.69369,     0.69469,      0.6957,\n",
      "            0.6967,      0.6977,      0.6987,      0.6997,      0.7007,      0.7017,      0.7027,      0.7037,      0.7047,     0.70571,     0.70671,     0.70771,     0.70871,     0.70971,     0.71071,     0.71171,     0.71271,     0.71371,     0.71471,     0.71572,     0.71672,     0.71772,     0.71872,     0.71972,\n",
      "           0.72072,     0.72172,     0.72272,     0.72372,     0.72472,     0.72573,     0.72673,     0.72773,     0.72873,     0.72973,     0.73073,     0.73173,     0.73273,     0.73373,     0.73473,     0.73574,     0.73674,     0.73774,     0.73874,     0.73974,     0.74074,     0.74174,     0.74274,     0.74374,\n",
      "           0.74474,     0.74575,     0.74675,     0.74775,     0.74875,     0.74975,     0.75075,     0.75175,     0.75275,     0.75375,     0.75475,     0.75576,     0.75676,     0.75776,     0.75876,     0.75976,     0.76076,     0.76176,     0.76276,     0.76376,     0.76476,     0.76577,     0.76677,     0.76777,\n",
      "           0.76877,     0.76977,     0.77077,     0.77177,     0.77277,     0.77377,     0.77477,     0.77578,     0.77678,     0.77778,     0.77878,     0.77978,     0.78078,     0.78178,     0.78278,     0.78378,     0.78478,     0.78579,     0.78679,     0.78779,     0.78879,     0.78979,     0.79079,     0.79179,\n",
      "           0.79279,     0.79379,     0.79479,      0.7958,      0.7968,      0.7978,      0.7988,      0.7998,      0.8008,      0.8018,      0.8028,      0.8038,      0.8048,     0.80581,     0.80681,     0.80781,     0.80881,     0.80981,     0.81081,     0.81181,     0.81281,     0.81381,     0.81481,     0.81582,\n",
      "           0.81682,     0.81782,     0.81882,     0.81982,     0.82082,     0.82182,     0.82282,     0.82382,     0.82482,     0.82583,     0.82683,     0.82783,     0.82883,     0.82983,     0.83083,     0.83183,     0.83283,     0.83383,     0.83483,     0.83584,     0.83684,     0.83784,     0.83884,     0.83984,\n",
      "           0.84084,     0.84184,     0.84284,     0.84384,     0.84484,     0.84585,     0.84685,     0.84785,     0.84885,     0.84985,     0.85085,     0.85185,     0.85285,     0.85385,     0.85485,     0.85586,     0.85686,     0.85786,     0.85886,     0.85986,     0.86086,     0.86186,     0.86286,     0.86386,\n",
      "           0.86486,     0.86587,     0.86687,     0.86787,     0.86887,     0.86987,     0.87087,     0.87187,     0.87287,     0.87387,     0.87487,     0.87588,     0.87688,     0.87788,     0.87888,     0.87988,     0.88088,     0.88188,     0.88288,     0.88388,     0.88488,     0.88589,     0.88689,     0.88789,\n",
      "           0.88889,     0.88989,     0.89089,     0.89189,     0.89289,     0.89389,     0.89489,      0.8959,      0.8969,      0.8979,      0.8989,      0.8999,      0.9009,      0.9019,      0.9029,      0.9039,      0.9049,     0.90591,     0.90691,     0.90791,     0.90891,     0.90991,     0.91091,     0.91191,\n",
      "           0.91291,     0.91391,     0.91491,     0.91592,     0.91692,     0.91792,     0.91892,     0.91992,     0.92092,     0.92192,     0.92292,     0.92392,     0.92492,     0.92593,     0.92693,     0.92793,     0.92893,     0.92993,     0.93093,     0.93193,     0.93293,     0.93393,     0.93493,     0.93594,\n",
      "           0.93694,     0.93794,     0.93894,     0.93994,     0.94094,     0.94194,     0.94294,     0.94394,     0.94494,     0.94595,     0.94695,     0.94795,     0.94895,     0.94995,     0.95095,     0.95195,     0.95295,     0.95395,     0.95495,     0.95596,     0.95696,     0.95796,     0.95896,     0.95996,\n",
      "           0.96096,     0.96196,     0.96296,     0.96396,     0.96496,     0.96597,     0.96697,     0.96797,     0.96897,     0.96997,     0.97097,     0.97197,     0.97297,     0.97397,     0.97497,     0.97598,     0.97698,     0.97798,     0.97898,     0.97998,     0.98098,     0.98198,     0.98298,     0.98398,\n",
      "           0.98498,     0.98599,     0.98699,     0.98799,     0.98899,     0.98999,     0.99099,     0.99199,     0.99299,     0.99399,     0.99499,       0.996,       0.997,       0.998,       0.999,           1]), array([[    0.60153,     0.60153,     0.60153,     0.60153,     0.60153,     0.60153,     0.60153,     0.60153,     0.60153,     0.60153,      0.6017,     0.61214,     0.62233,     0.63199,     0.63989,     0.64715,     0.65462,     0.66147,     0.66757,     0.67328,     0.67831,     0.68335,     0.68794,\n",
      "             0.6918,     0.69568,     0.69982,     0.70322,     0.70629,      0.7095,     0.71267,     0.71553,       0.718,     0.72112,     0.72403,     0.72673,     0.72934,     0.73156,     0.73361,      0.7357,     0.73766,     0.74017,      0.7425,     0.74475,     0.74648,     0.74796,     0.74991,\n",
      "             0.7519,     0.75319,     0.75496,     0.75639,     0.75756,     0.75884,     0.76002,     0.76114,     0.76257,     0.76391,     0.76533,     0.76688,     0.76813,     0.76924,     0.77041,     0.77135,      0.7723,     0.77334,     0.77426,     0.77558,     0.77696,     0.77771,     0.77897,\n",
      "            0.78021,     0.78099,     0.78183,     0.78257,     0.78333,     0.78398,     0.78493,     0.78587,      0.7866,      0.7872,     0.78778,     0.78881,     0.78973,     0.79073,     0.79154,     0.79269,     0.79349,     0.79388,     0.79459,     0.79528,      0.7961,      0.7969,     0.79755,\n",
      "             0.7983,      0.7988,     0.79944,     0.79979,     0.80029,     0.80108,     0.80181,      0.8024,     0.80318,     0.80365,     0.80466,     0.80515,     0.80561,     0.80591,     0.80654,     0.80691,     0.80754,     0.80795,     0.80855,     0.80913,     0.80957,     0.81012,     0.81069,\n",
      "            0.81123,     0.81211,     0.81252,     0.81304,      0.8136,     0.81414,     0.81458,     0.81495,     0.81557,     0.81595,     0.81631,     0.81683,     0.81723,     0.81772,     0.81813,     0.81842,     0.81872,     0.81902,     0.81919,     0.81957,     0.81991,     0.82009,     0.82029,\n",
      "            0.82075,     0.82107,     0.82132,     0.82171,     0.82172,     0.82207,     0.82229,     0.82261,     0.82298,     0.82352,     0.82413,     0.82467,     0.82487,     0.82545,     0.82571,     0.82596,     0.82611,     0.82649,      0.8267,       0.827,     0.82725,     0.82777,      0.8282,\n",
      "            0.82852,     0.82885,     0.82921,     0.82967,     0.83004,     0.83022,     0.83065,     0.83109,     0.83161,     0.83181,     0.83201,     0.83224,     0.83256,     0.83307,     0.83318,     0.83348,     0.83408,      0.8346,     0.83485,     0.83517,     0.83524,     0.83542,     0.83577,\n",
      "            0.83615,      0.8363,     0.83677,     0.83695,     0.83724,     0.83759,     0.83775,     0.83833,     0.83845,     0.83867,     0.83891,     0.83927,     0.83945,     0.83969,     0.84014,     0.84045,     0.84072,     0.84107,      0.8414,     0.84171,     0.84196,     0.84209,     0.84226,\n",
      "            0.84249,     0.84274,     0.84307,     0.84324,      0.8438,     0.84385,     0.84395,     0.84403,     0.84427,     0.84454,      0.8447,     0.84486,     0.84485,     0.84495,      0.8451,     0.84552,     0.84573,     0.84591,     0.84626,     0.84624,      0.8464,     0.84682,     0.84697,\n",
      "            0.84711,     0.84737,     0.84752,     0.84771,      0.8479,     0.84807,     0.84814,     0.84818,     0.84838,      0.8485,     0.84871,     0.84905,     0.84917,     0.84917,     0.84929,     0.84921,     0.84947,     0.84947,     0.84963,     0.84977,     0.84999,     0.85004,     0.85021,\n",
      "            0.85034,     0.85053,     0.85062,     0.85076,     0.85096,     0.85099,     0.85091,     0.85095,     0.85107,     0.85125,     0.85148,     0.85175,     0.85206,     0.85196,     0.85202,     0.85223,     0.85248,     0.85265,     0.85295,     0.85308,     0.85328,     0.85338,     0.85345,\n",
      "            0.85358,     0.85379,     0.85407,     0.85405,      0.8543,     0.85443,     0.85452,     0.85466,     0.85487,     0.85492,     0.85495,     0.85517,     0.85545,     0.85562,     0.85597,     0.85619,     0.85618,     0.85631,     0.85635,     0.85646,     0.85671,     0.85694,     0.85703,\n",
      "            0.85699,     0.85701,      0.8571,     0.85728,     0.85726,     0.85728,     0.85746,      0.8576,     0.85747,     0.85767,     0.85777,     0.85787,     0.85787,     0.85794,     0.85811,     0.85827,     0.85853,     0.85882,     0.85901,     0.85901,     0.85932,     0.85953,     0.85967,\n",
      "            0.85991,     0.86016,     0.86025,     0.86033,     0.86043,     0.86058,     0.86057,     0.86065,     0.86071,     0.86082,     0.86075,     0.86091,     0.86088,     0.86098,     0.86115,     0.86128,     0.86146,     0.86165,     0.86164,     0.86174,      0.8618,     0.86194,     0.86187,\n",
      "            0.86189,     0.86176,       0.862,     0.86198,     0.86219,     0.86233,     0.86228,     0.86246,     0.86261,      0.8625,     0.86263,     0.86267,      0.8628,     0.86295,     0.86302,     0.86321,     0.86329,     0.86356,     0.86371,      0.8638,     0.86392,     0.86405,     0.86404,\n",
      "            0.86427,     0.86418,     0.86423,     0.86422,     0.86426,     0.86408,     0.86401,     0.86423,     0.86422,     0.86434,     0.86422,     0.86428,     0.86419,     0.86416,     0.86418,     0.86438,     0.86436,     0.86423,     0.86437,     0.86445,      0.8643,     0.86438,     0.86437,\n",
      "            0.86448,     0.86435,     0.86444,     0.86443,     0.86427,     0.86431,     0.86449,     0.86467,      0.8646,     0.86449,     0.86469,     0.86482,     0.86485,     0.86489,     0.86487,     0.86509,     0.86522,      0.8652,     0.86528,      0.8652,     0.86518,     0.86503,     0.86505,\n",
      "            0.86483,     0.86486,       0.865,     0.86505,     0.86475,     0.86481,     0.86492,     0.86495,     0.86498,      0.8651,     0.86528,     0.86535,     0.86549,     0.86561,     0.86565,     0.86546,     0.86532,     0.86549,     0.86547,     0.86526,     0.86517,     0.86507,      0.8648,\n",
      "            0.86508,     0.86518,     0.86484,      0.8649,     0.86501,     0.86488,     0.86488,     0.86494,     0.86476,     0.86465,     0.86472,     0.86467,     0.86491,     0.86488,     0.86508,     0.86509,     0.86513,     0.86503,     0.86496,     0.86488,     0.86495,     0.86476,      0.8647,\n",
      "            0.86452,     0.86454,     0.86451,     0.86456,     0.86476,     0.86479,     0.86455,     0.86456,     0.86448,     0.86434,      0.8644,     0.86426,      0.8643,      0.8641,     0.86423,     0.86392,     0.86369,     0.86371,     0.86336,     0.86345,      0.8632,     0.86303,       0.863,\n",
      "            0.86275,     0.86257,     0.86255,     0.86249,     0.86238,     0.86222,     0.86223,     0.86214,     0.86204,       0.862,      0.8618,     0.86138,     0.86124,     0.86128,     0.86126,     0.86122,     0.86092,     0.86084,      0.8607,     0.86068,     0.86063,     0.86048,     0.86048,\n",
      "            0.86048,     0.86068,     0.86056,     0.86063,     0.86029,      0.8603,     0.86035,     0.86041,     0.86031,     0.86023,      0.8602,     0.86029,     0.86032,     0.86017,     0.86018,        0.86,     0.86005,     0.85974,     0.85953,     0.85919,     0.85904,      0.8589,     0.85882,\n",
      "            0.85886,     0.85877,      0.8586,     0.85832,      0.8583,      0.8585,     0.85831,     0.85814,     0.85798,     0.85801,     0.85796,       0.858,     0.85779,     0.85769,      0.8576,      0.8574,     0.85729,     0.85727,       0.857,     0.85671,     0.85661,     0.85633,     0.85585,\n",
      "            0.85579,     0.85561,     0.85555,     0.85533,     0.85543,     0.85534,     0.85517,     0.85475,     0.85461,     0.85465,      0.8544,     0.85426,     0.85415,     0.85412,     0.85413,       0.854,     0.85371,     0.85356,     0.85322,     0.85305,     0.85292,     0.85236,     0.85212,\n",
      "            0.85202,     0.85186,     0.85128,     0.85136,     0.85111,     0.85115,     0.85075,     0.85069,     0.85025,     0.85017,     0.84972,     0.84931,     0.84925,     0.84892,     0.84883,     0.84842,     0.84802,      0.8476,     0.84742,     0.84737,     0.84727,     0.84709,     0.84648,\n",
      "            0.84625,     0.84607,     0.84575,     0.84548,     0.84505,     0.84484,     0.84445,      0.8444,     0.84428,      0.8441,     0.84368,     0.84346,     0.84328,     0.84286,     0.84266,     0.84226,     0.84213,     0.84193,     0.84182,     0.84133,     0.84092,     0.84063,     0.83999,\n",
      "            0.83936,      0.8391,     0.83853,     0.83816,     0.83762,      0.8372,     0.83653,      0.8362,     0.83533,     0.83491,     0.83439,     0.83403,     0.83358,     0.83335,     0.83259,     0.83208,     0.83126,      0.8305,      0.8297,     0.82905,     0.82859,     0.82805,     0.82777,\n",
      "            0.82684,     0.82592,     0.82511,      0.8241,     0.82337,     0.82297,     0.82252,     0.82185,     0.82126,     0.82055,     0.81991,     0.81948,     0.81906,     0.81799,     0.81745,     0.81653,     0.81593,     0.81577,     0.81518,     0.81445,     0.81353,     0.81255,     0.81183,\n",
      "            0.81082,     0.80972,     0.80901,      0.8083,     0.80717,     0.80653,     0.80542,     0.80508,     0.80416,     0.80295,     0.80181,     0.80109,     0.80045,      0.7995,     0.79834,     0.79719,     0.79634,     0.79567,     0.79481,      0.7941,     0.79295,     0.79204,      0.7913,\n",
      "            0.79051,     0.78943,     0.78862,     0.78773,     0.78684,     0.78619,     0.78566,     0.78488,     0.78382,     0.78273,     0.78203,     0.78103,     0.77992,     0.77867,     0.77753,     0.77631,     0.77527,     0.77465,     0.77401,     0.77286,     0.77201,     0.77086,     0.76991,\n",
      "            0.76912,     0.76833,     0.76704,     0.76637,     0.76518,     0.76359,     0.76314,     0.76236,     0.76156,     0.76069,     0.75951,     0.75853,     0.75674,     0.75552,     0.75424,     0.75269,     0.75152,     0.75023,     0.74886,     0.74786,     0.74687,     0.74549,     0.74406,\n",
      "            0.74253,     0.74129,     0.73986,     0.73838,     0.73663,     0.73531,     0.73374,     0.73169,     0.73017,     0.72916,     0.72703,     0.72518,     0.72346,     0.72201,     0.72052,     0.71939,     0.71764,     0.71506,     0.71349,     0.71192,      0.7101,     0.70768,     0.70588,\n",
      "            0.70384,     0.70244,     0.70016,     0.69818,     0.69561,     0.69386,     0.69238,     0.69018,     0.68858,     0.68603,     0.68341,     0.68141,     0.67932,     0.67628,     0.67377,     0.67151,     0.66941,     0.66703,     0.66422,     0.66119,     0.65831,     0.65639,     0.65338,\n",
      "            0.65083,     0.64732,     0.64425,     0.64147,     0.63832,     0.63493,     0.63189,     0.62831,     0.62556,     0.62283,     0.61949,     0.61643,     0.61355,     0.60981,     0.60634,     0.60194,     0.59803,     0.59462,     0.58984,     0.58664,     0.58328,     0.57958,     0.57581,\n",
      "            0.57029,     0.56693,      0.5629,     0.55855,     0.55334,     0.54907,     0.54452,     0.54053,     0.53643,     0.53242,     0.52944,     0.52493,     0.52156,     0.51719,     0.51272,     0.50831,     0.50317,     0.50046,     0.49638,     0.49207,     0.48762,     0.48342,     0.48001,\n",
      "            0.47508,      0.4692,     0.46461,     0.45931,     0.45419,     0.44864,     0.44335,     0.43879,     0.43366,     0.42986,     0.42449,     0.41772,      0.4119,     0.40476,     0.39855,     0.39382,     0.38661,     0.38053,     0.37547,     0.36879,     0.36383,     0.35869,     0.35301,\n",
      "            0.34713,     0.34107,     0.33497,       0.328,     0.32146,     0.31745,     0.31135,     0.30544,     0.30055,      0.2951,     0.29006,     0.28363,     0.27868,     0.27287,     0.26605,     0.25869,     0.25304,     0.24726,       0.242,     0.23783,     0.23102,     0.22448,     0.21902,\n",
      "            0.21339,     0.20778,     0.20302,     0.19679,     0.19153,     0.18537,     0.17923,     0.17376,     0.16818,     0.16278,     0.15661,     0.15198,     0.14676,     0.14052,     0.13585,     0.13284,     0.12627,     0.12239,     0.11756,     0.11352,     0.10935,     0.10605,     0.10131,\n",
      "           0.099567,    0.096131,    0.093368,    0.088229,    0.085804,    0.082563,    0.078921,    0.076393,    0.074902,    0.070816,    0.068549,    0.065494,    0.063019,    0.061291,    0.059105,    0.057082,    0.054472,    0.051806,    0.049805,    0.047223,    0.046208,     0.04423,    0.041822,\n",
      "           0.040205,    0.039375,    0.037151,    0.035834,    0.034996,    0.033438,    0.031499,      0.0296,    0.028274,     0.02753,    0.026919,    0.024942,    0.023393,    0.021404,    0.019103,    0.018088,    0.016981,    0.016311,    0.015567,    0.014815,    0.013204,    0.011853,    0.010907,\n",
      "           0.010235,   0.0097462,   0.0087822,   0.0081915,   0.0079991,   0.0071235,   0.0061972,    0.005705,   0.0055672,   0.0054283,   0.0051307,   0.0048005,   0.0046248,   0.0043005,   0.0035237,   0.0031825,   0.0030135,    0.002441,   0.0019557,   0.0017445,   0.0016624,   0.0015265,   0.0011283,\n",
      "         0.00080009,  0.00072208,  0.00064405,  0.00058068,  0.00053472,  0.00048876,   0.0004428,  0.00039612,  0.00034255,  0.00028898,  0.00023541,           0,           0,           0,           0,           0,           0,           0,           0,           0,           0,           0,           0,\n",
      "                  0,           0,           0,           0,           0,           0,           0,           0,           0,           0,           0]]), 'Confidence', 'F1'], [array([          0,    0.001001,    0.002002,    0.003003,    0.004004,    0.005005,    0.006006,    0.007007,    0.008008,    0.009009,     0.01001,    0.011011,    0.012012,    0.013013,    0.014014,    0.015015,    0.016016,    0.017017,    0.018018,    0.019019,     0.02002,    0.021021,    0.022022,    0.023023,\n",
      "          0.024024,    0.025025,    0.026026,    0.027027,    0.028028,    0.029029,     0.03003,    0.031031,    0.032032,    0.033033,    0.034034,    0.035035,    0.036036,    0.037037,    0.038038,    0.039039,     0.04004,    0.041041,    0.042042,    0.043043,    0.044044,    0.045045,    0.046046,    0.047047,\n",
      "          0.048048,    0.049049,     0.05005,    0.051051,    0.052052,    0.053053,    0.054054,    0.055055,    0.056056,    0.057057,    0.058058,    0.059059,     0.06006,    0.061061,    0.062062,    0.063063,    0.064064,    0.065065,    0.066066,    0.067067,    0.068068,    0.069069,     0.07007,    0.071071,\n",
      "          0.072072,    0.073073,    0.074074,    0.075075,    0.076076,    0.077077,    0.078078,    0.079079,     0.08008,    0.081081,    0.082082,    0.083083,    0.084084,    0.085085,    0.086086,    0.087087,    0.088088,    0.089089,     0.09009,    0.091091,    0.092092,    0.093093,    0.094094,    0.095095,\n",
      "          0.096096,    0.097097,    0.098098,    0.099099,      0.1001,      0.1011,      0.1021,      0.1031,      0.1041,     0.10511,     0.10611,     0.10711,     0.10811,     0.10911,     0.11011,     0.11111,     0.11211,     0.11311,     0.11411,     0.11512,     0.11612,     0.11712,     0.11812,     0.11912,\n",
      "           0.12012,     0.12112,     0.12212,     0.12312,     0.12412,     0.12513,     0.12613,     0.12713,     0.12813,     0.12913,     0.13013,     0.13113,     0.13213,     0.13313,     0.13413,     0.13514,     0.13614,     0.13714,     0.13814,     0.13914,     0.14014,     0.14114,     0.14214,     0.14314,\n",
      "           0.14414,     0.14515,     0.14615,     0.14715,     0.14815,     0.14915,     0.15015,     0.15115,     0.15215,     0.15315,     0.15415,     0.15516,     0.15616,     0.15716,     0.15816,     0.15916,     0.16016,     0.16116,     0.16216,     0.16316,     0.16416,     0.16517,     0.16617,     0.16717,\n",
      "           0.16817,     0.16917,     0.17017,     0.17117,     0.17217,     0.17317,     0.17417,     0.17518,     0.17618,     0.17718,     0.17818,     0.17918,     0.18018,     0.18118,     0.18218,     0.18318,     0.18418,     0.18519,     0.18619,     0.18719,     0.18819,     0.18919,     0.19019,     0.19119,\n",
      "           0.19219,     0.19319,     0.19419,      0.1952,      0.1962,      0.1972,      0.1982,      0.1992,      0.2002,      0.2012,      0.2022,      0.2032,      0.2042,     0.20521,     0.20621,     0.20721,     0.20821,     0.20921,     0.21021,     0.21121,     0.21221,     0.21321,     0.21421,     0.21522,\n",
      "           0.21622,     0.21722,     0.21822,     0.21922,     0.22022,     0.22122,     0.22222,     0.22322,     0.22422,     0.22523,     0.22623,     0.22723,     0.22823,     0.22923,     0.23023,     0.23123,     0.23223,     0.23323,     0.23423,     0.23524,     0.23624,     0.23724,     0.23824,     0.23924,\n",
      "           0.24024,     0.24124,     0.24224,     0.24324,     0.24424,     0.24525,     0.24625,     0.24725,     0.24825,     0.24925,     0.25025,     0.25125,     0.25225,     0.25325,     0.25425,     0.25526,     0.25626,     0.25726,     0.25826,     0.25926,     0.26026,     0.26126,     0.26226,     0.26326,\n",
      "           0.26426,     0.26527,     0.26627,     0.26727,     0.26827,     0.26927,     0.27027,     0.27127,     0.27227,     0.27327,     0.27427,     0.27528,     0.27628,     0.27728,     0.27828,     0.27928,     0.28028,     0.28128,     0.28228,     0.28328,     0.28428,     0.28529,     0.28629,     0.28729,\n",
      "           0.28829,     0.28929,     0.29029,     0.29129,     0.29229,     0.29329,     0.29429,      0.2953,      0.2963,      0.2973,      0.2983,      0.2993,      0.3003,      0.3013,      0.3023,      0.3033,      0.3043,     0.30531,     0.30631,     0.30731,     0.30831,     0.30931,     0.31031,     0.31131,\n",
      "           0.31231,     0.31331,     0.31431,     0.31532,     0.31632,     0.31732,     0.31832,     0.31932,     0.32032,     0.32132,     0.32232,     0.32332,     0.32432,     0.32533,     0.32633,     0.32733,     0.32833,     0.32933,     0.33033,     0.33133,     0.33233,     0.33333,     0.33433,     0.33534,\n",
      "           0.33634,     0.33734,     0.33834,     0.33934,     0.34034,     0.34134,     0.34234,     0.34334,     0.34434,     0.34535,     0.34635,     0.34735,     0.34835,     0.34935,     0.35035,     0.35135,     0.35235,     0.35335,     0.35435,     0.35536,     0.35636,     0.35736,     0.35836,     0.35936,\n",
      "           0.36036,     0.36136,     0.36236,     0.36336,     0.36436,     0.36537,     0.36637,     0.36737,     0.36837,     0.36937,     0.37037,     0.37137,     0.37237,     0.37337,     0.37437,     0.37538,     0.37638,     0.37738,     0.37838,     0.37938,     0.38038,     0.38138,     0.38238,     0.38338,\n",
      "           0.38438,     0.38539,     0.38639,     0.38739,     0.38839,     0.38939,     0.39039,     0.39139,     0.39239,     0.39339,     0.39439,      0.3954,      0.3964,      0.3974,      0.3984,      0.3994,      0.4004,      0.4014,      0.4024,      0.4034,      0.4044,     0.40541,     0.40641,     0.40741,\n",
      "           0.40841,     0.40941,     0.41041,     0.41141,     0.41241,     0.41341,     0.41441,     0.41542,     0.41642,     0.41742,     0.41842,     0.41942,     0.42042,     0.42142,     0.42242,     0.42342,     0.42442,     0.42543,     0.42643,     0.42743,     0.42843,     0.42943,     0.43043,     0.43143,\n",
      "           0.43243,     0.43343,     0.43443,     0.43544,     0.43644,     0.43744,     0.43844,     0.43944,     0.44044,     0.44144,     0.44244,     0.44344,     0.44444,     0.44545,     0.44645,     0.44745,     0.44845,     0.44945,     0.45045,     0.45145,     0.45245,     0.45345,     0.45445,     0.45546,\n",
      "           0.45646,     0.45746,     0.45846,     0.45946,     0.46046,     0.46146,     0.46246,     0.46346,     0.46446,     0.46547,     0.46647,     0.46747,     0.46847,     0.46947,     0.47047,     0.47147,     0.47247,     0.47347,     0.47447,     0.47548,     0.47648,     0.47748,     0.47848,     0.47948,\n",
      "           0.48048,     0.48148,     0.48248,     0.48348,     0.48448,     0.48549,     0.48649,     0.48749,     0.48849,     0.48949,     0.49049,     0.49149,     0.49249,     0.49349,     0.49449,      0.4955,      0.4965,      0.4975,      0.4985,      0.4995,      0.5005,      0.5015,      0.5025,      0.5035,\n",
      "            0.5045,     0.50551,     0.50651,     0.50751,     0.50851,     0.50951,     0.51051,     0.51151,     0.51251,     0.51351,     0.51451,     0.51552,     0.51652,     0.51752,     0.51852,     0.51952,     0.52052,     0.52152,     0.52252,     0.52352,     0.52452,     0.52553,     0.52653,     0.52753,\n",
      "           0.52853,     0.52953,     0.53053,     0.53153,     0.53253,     0.53353,     0.53453,     0.53554,     0.53654,     0.53754,     0.53854,     0.53954,     0.54054,     0.54154,     0.54254,     0.54354,     0.54454,     0.54555,     0.54655,     0.54755,     0.54855,     0.54955,     0.55055,     0.55155,\n",
      "           0.55255,     0.55355,     0.55455,     0.55556,     0.55656,     0.55756,     0.55856,     0.55956,     0.56056,     0.56156,     0.56256,     0.56356,     0.56456,     0.56557,     0.56657,     0.56757,     0.56857,     0.56957,     0.57057,     0.57157,     0.57257,     0.57357,     0.57457,     0.57558,\n",
      "           0.57658,     0.57758,     0.57858,     0.57958,     0.58058,     0.58158,     0.58258,     0.58358,     0.58458,     0.58559,     0.58659,     0.58759,     0.58859,     0.58959,     0.59059,     0.59159,     0.59259,     0.59359,     0.59459,      0.5956,      0.5966,      0.5976,      0.5986,      0.5996,\n",
      "            0.6006,      0.6016,      0.6026,      0.6036,      0.6046,     0.60561,     0.60661,     0.60761,     0.60861,     0.60961,     0.61061,     0.61161,     0.61261,     0.61361,     0.61461,     0.61562,     0.61662,     0.61762,     0.61862,     0.61962,     0.62062,     0.62162,     0.62262,     0.62362,\n",
      "           0.62462,     0.62563,     0.62663,     0.62763,     0.62863,     0.62963,     0.63063,     0.63163,     0.63263,     0.63363,     0.63463,     0.63564,     0.63664,     0.63764,     0.63864,     0.63964,     0.64064,     0.64164,     0.64264,     0.64364,     0.64464,     0.64565,     0.64665,     0.64765,\n",
      "           0.64865,     0.64965,     0.65065,     0.65165,     0.65265,     0.65365,     0.65465,     0.65566,     0.65666,     0.65766,     0.65866,     0.65966,     0.66066,     0.66166,     0.66266,     0.66366,     0.66466,     0.66567,     0.66667,     0.66767,     0.66867,     0.66967,     0.67067,     0.67167,\n",
      "           0.67267,     0.67367,     0.67467,     0.67568,     0.67668,     0.67768,     0.67868,     0.67968,     0.68068,     0.68168,     0.68268,     0.68368,     0.68468,     0.68569,     0.68669,     0.68769,     0.68869,     0.68969,     0.69069,     0.69169,     0.69269,     0.69369,     0.69469,      0.6957,\n",
      "            0.6967,      0.6977,      0.6987,      0.6997,      0.7007,      0.7017,      0.7027,      0.7037,      0.7047,     0.70571,     0.70671,     0.70771,     0.70871,     0.70971,     0.71071,     0.71171,     0.71271,     0.71371,     0.71471,     0.71572,     0.71672,     0.71772,     0.71872,     0.71972,\n",
      "           0.72072,     0.72172,     0.72272,     0.72372,     0.72472,     0.72573,     0.72673,     0.72773,     0.72873,     0.72973,     0.73073,     0.73173,     0.73273,     0.73373,     0.73473,     0.73574,     0.73674,     0.73774,     0.73874,     0.73974,     0.74074,     0.74174,     0.74274,     0.74374,\n",
      "           0.74474,     0.74575,     0.74675,     0.74775,     0.74875,     0.74975,     0.75075,     0.75175,     0.75275,     0.75375,     0.75475,     0.75576,     0.75676,     0.75776,     0.75876,     0.75976,     0.76076,     0.76176,     0.76276,     0.76376,     0.76476,     0.76577,     0.76677,     0.76777,\n",
      "           0.76877,     0.76977,     0.77077,     0.77177,     0.77277,     0.77377,     0.77477,     0.77578,     0.77678,     0.77778,     0.77878,     0.77978,     0.78078,     0.78178,     0.78278,     0.78378,     0.78478,     0.78579,     0.78679,     0.78779,     0.78879,     0.78979,     0.79079,     0.79179,\n",
      "           0.79279,     0.79379,     0.79479,      0.7958,      0.7968,      0.7978,      0.7988,      0.7998,      0.8008,      0.8018,      0.8028,      0.8038,      0.8048,     0.80581,     0.80681,     0.80781,     0.80881,     0.80981,     0.81081,     0.81181,     0.81281,     0.81381,     0.81481,     0.81582,\n",
      "           0.81682,     0.81782,     0.81882,     0.81982,     0.82082,     0.82182,     0.82282,     0.82382,     0.82482,     0.82583,     0.82683,     0.82783,     0.82883,     0.82983,     0.83083,     0.83183,     0.83283,     0.83383,     0.83483,     0.83584,     0.83684,     0.83784,     0.83884,     0.83984,\n",
      "           0.84084,     0.84184,     0.84284,     0.84384,     0.84484,     0.84585,     0.84685,     0.84785,     0.84885,     0.84985,     0.85085,     0.85185,     0.85285,     0.85385,     0.85485,     0.85586,     0.85686,     0.85786,     0.85886,     0.85986,     0.86086,     0.86186,     0.86286,     0.86386,\n",
      "           0.86486,     0.86587,     0.86687,     0.86787,     0.86887,     0.86987,     0.87087,     0.87187,     0.87287,     0.87387,     0.87487,     0.87588,     0.87688,     0.87788,     0.87888,     0.87988,     0.88088,     0.88188,     0.88288,     0.88388,     0.88488,     0.88589,     0.88689,     0.88789,\n",
      "           0.88889,     0.88989,     0.89089,     0.89189,     0.89289,     0.89389,     0.89489,      0.8959,      0.8969,      0.8979,      0.8989,      0.8999,      0.9009,      0.9019,      0.9029,      0.9039,      0.9049,     0.90591,     0.90691,     0.90791,     0.90891,     0.90991,     0.91091,     0.91191,\n",
      "           0.91291,     0.91391,     0.91491,     0.91592,     0.91692,     0.91792,     0.91892,     0.91992,     0.92092,     0.92192,     0.92292,     0.92392,     0.92492,     0.92593,     0.92693,     0.92793,     0.92893,     0.92993,     0.93093,     0.93193,     0.93293,     0.93393,     0.93493,     0.93594,\n",
      "           0.93694,     0.93794,     0.93894,     0.93994,     0.94094,     0.94194,     0.94294,     0.94394,     0.94494,     0.94595,     0.94695,     0.94795,     0.94895,     0.94995,     0.95095,     0.95195,     0.95295,     0.95395,     0.95495,     0.95596,     0.95696,     0.95796,     0.95896,     0.95996,\n",
      "           0.96096,     0.96196,     0.96296,     0.96396,     0.96496,     0.96597,     0.96697,     0.96797,     0.96897,     0.96997,     0.97097,     0.97197,     0.97297,     0.97397,     0.97497,     0.97598,     0.97698,     0.97798,     0.97898,     0.97998,     0.98098,     0.98198,     0.98298,     0.98398,\n",
      "           0.98498,     0.98599,     0.98699,     0.98799,     0.98899,     0.98999,     0.99099,     0.99199,     0.99299,     0.99399,     0.99499,       0.996,       0.997,       0.998,       0.999,           1]), array([[    0.44941,     0.44941,     0.44941,     0.44941,     0.44941,     0.44941,     0.44941,     0.44941,     0.44941,     0.44941,     0.44961,     0.46147,     0.47314,     0.48452,     0.49389,     0.50266,     0.51179,     0.52025,     0.52801,     0.53529,     0.54179,     0.54825,     0.55429,\n",
      "             0.5594,     0.56464,     0.57016,     0.57477,     0.57892,     0.58333,     0.58764,     0.59153,     0.59495,      0.5993,     0.60338,     0.60717,     0.61088,       0.614,     0.61708,     0.62014,     0.62297,     0.62671,     0.63005,      0.6334,     0.63596,      0.6382,     0.64105,\n",
      "            0.64402,     0.64596,     0.64862,       0.651,     0.65279,     0.65469,     0.65656,     0.65828,     0.66053,      0.6627,     0.66491,     0.66725,      0.6692,     0.67094,     0.67278,     0.67438,     0.67595,     0.67771,     0.67918,     0.68127,      0.6834,     0.68462,     0.68658,\n",
      "            0.68857,      0.6899,     0.69134,      0.6926,     0.69386,     0.69488,     0.69649,     0.69803,      0.6992,     0.70032,      0.7013,     0.70293,     0.70446,     0.70612,     0.70747,     0.70937,     0.71071,     0.71153,     0.71281,     0.71404,     0.71536,     0.71672,     0.71783,\n",
      "            0.71924,     0.72018,     0.72129,     0.72213,     0.72314,     0.72442,     0.72561,     0.72658,     0.72793,     0.72877,     0.73044,      0.7313,     0.73214,     0.73269,     0.73387,     0.73456,     0.73574,     0.73656,     0.73775,     0.73872,     0.73953,     0.74044,      0.7414,\n",
      "            0.74237,     0.74398,     0.74467,     0.74561,     0.74656,     0.74754,     0.74835,     0.74912,     0.75017,     0.75081,     0.75142,     0.75231,     0.75312,     0.75395,     0.75479,     0.75536,     0.75608,     0.75675,     0.75733,     0.75811,      0.7587,     0.75908,     0.75942,\n",
      "            0.76021,     0.76091,     0.76134,     0.76215,     0.76246,     0.76321,      0.7636,     0.76415,     0.76501,     0.76602,     0.76707,       0.768,     0.76835,     0.76936,     0.76987,      0.7704,     0.77066,     0.77133,     0.77169,     0.77228,     0.77287,     0.77378,     0.77453,\n",
      "            0.77517,     0.77582,     0.77653,     0.77734,     0.77799,      0.7783,     0.77914,     0.77999,      0.7809,     0.78156,     0.78215,     0.78281,     0.78351,     0.78443,     0.78478,     0.78538,     0.78644,     0.78738,      0.7879,     0.78856,     0.78899,     0.78947,     0.79017,\n",
      "            0.79093,     0.79145,     0.79236,     0.79277,     0.79329,       0.794,     0.79429,     0.79532,     0.79555,     0.79602,     0.79649,     0.79719,     0.79759,     0.79819,     0.79899,     0.79964,     0.80013,     0.80077,     0.80136,     0.80193,     0.80238,      0.8027,     0.80317,\n",
      "            0.80367,     0.80414,     0.80474,     0.80504,     0.80606,     0.80641,     0.80675,     0.80707,      0.8075,     0.80807,     0.80838,     0.80883,     0.80915,     0.80942,     0.80986,     0.81063,     0.81111,     0.81152,     0.81217,     0.81247,     0.81284,     0.81364,     0.81391,\n",
      "            0.81434,     0.81489,     0.81527,     0.81561,     0.81614,     0.81645,     0.81684,     0.81707,     0.81755,     0.81793,      0.8185,     0.81913,     0.81941,     0.81954,     0.81985,     0.81987,     0.82036,     0.82046,     0.82082,     0.82117,     0.82159,      0.8218,     0.82218,\n",
      "            0.82247,     0.82294,     0.82329,     0.82356,      0.8241,     0.82435,     0.82439,     0.82469,     0.82492,     0.82527,     0.82578,     0.82629,     0.82688,     0.82693,     0.82725,     0.82773,     0.82847,     0.82888,     0.82955,     0.82979,     0.83017,     0.83052,     0.83075,\n",
      "              0.831,      0.8314,     0.83194,     0.83216,     0.83264,     0.83292,     0.83323,      0.8335,     0.83409,     0.83419,     0.83442,     0.83489,     0.83555,     0.83603,     0.83673,     0.83725,     0.83749,     0.83784,     0.83801,     0.83831,     0.83879,     0.83931,     0.83959,\n",
      "            0.83978,     0.83983,     0.83999,     0.84035,     0.84067,     0.84091,      0.8413,     0.84162,     0.84182,     0.84221,     0.84258,     0.84278,     0.84287,      0.8431,     0.84365,     0.84401,     0.84462,     0.84517,     0.84573,     0.84584,     0.84643,     0.84685,     0.84712,\n",
      "            0.84776,     0.84836,     0.84862,     0.84887,     0.84935,     0.84963,      0.8499,     0.85031,     0.85069,     0.85097,     0.85122,     0.85162,     0.85175,     0.85206,     0.85238,     0.85272,     0.85319,     0.85355,     0.85376,     0.85402,     0.85423,     0.85451,     0.85467,\n",
      "            0.85485,     0.85482,     0.85531,     0.85548,     0.85603,     0.85651,     0.85664,     0.85709,     0.85758,     0.85767,     0.85793,      0.8582,     0.85865,     0.85915,     0.85936,     0.85986,     0.86012,     0.86066,     0.86103,     0.86128,     0.86157,     0.86193,     0.86232,\n",
      "            0.86298,     0.86304,     0.86318,     0.86335,     0.86351,     0.86388,     0.86404,     0.86458,     0.86465,      0.8649,     0.86495,     0.86519,     0.86541,     0.86556,     0.86579,      0.8663,      0.8666,      0.8666,     0.86709,     0.86739,     0.86745,     0.86772,     0.86791,\n",
      "            0.86825,     0.86846,     0.86875,     0.86885,     0.86893,     0.86915,     0.86957,     0.87017,     0.87039,      0.8706,     0.87111,     0.87147,     0.87163,     0.87204,      0.8723,     0.87287,     0.87344,     0.87384,     0.87408,     0.87412,     0.87448,     0.87468,     0.87501,\n",
      "            0.87504,     0.87542,      0.8757,     0.87605,     0.87614,     0.87648,      0.8767,     0.87709,     0.87733,     0.87772,     0.87809,     0.87866,     0.87915,     0.87951,     0.87981,     0.87995,     0.88025,     0.88086,      0.8811,     0.88114,     0.88128,     0.88134,     0.88138,\n",
      "            0.88209,      0.8824,     0.88245,     0.88268,     0.88298,     0.88329,     0.88361,     0.88397,     0.88412,     0.88423,      0.8845,     0.88499,     0.88555,     0.88581,     0.88623,     0.88658,     0.88702,     0.88709,     0.88733,      0.8879,     0.88817,     0.88832,     0.88838,\n",
      "            0.88849,     0.88876,     0.88891,     0.88913,     0.88968,      0.8901,     0.89011,     0.89049,     0.89065,     0.89078,     0.89105,     0.89121,     0.89138,     0.89168,     0.89214,     0.89217,     0.89221,     0.89265,     0.89269,     0.89312,     0.89333,     0.89347,     0.89376,\n",
      "            0.89377,     0.89411,     0.89417,     0.89452,     0.89475,     0.89472,     0.89499,     0.89514,      0.8953,     0.89543,     0.89543,     0.89561,     0.89576,     0.89613,      0.8963,     0.89665,     0.89668,     0.89693,     0.89699,     0.89725,     0.89734,     0.89749,     0.89803,\n",
      "            0.89836,     0.89915,     0.89925,     0.89952,     0.89985,     0.90035,      0.9007,     0.90098,     0.90115,     0.90113,     0.90134,      0.9016,     0.90184,     0.90203,     0.90249,     0.90273,     0.90302,     0.90296,     0.90311,     0.90323,      0.9033,     0.90344,     0.90381,\n",
      "            0.90421,      0.9045,     0.90469,     0.90474,     0.90482,      0.9055,     0.90566,     0.90591,     0.90622,     0.90682,     0.90709,     0.90737,     0.90764,     0.90793,     0.90824,     0.90841,     0.90854,     0.90886,     0.90909,     0.90924,     0.90927,      0.9094,     0.90985,\n",
      "            0.91013,     0.91033,     0.91066,     0.91096,      0.9115,     0.91168,     0.91189,     0.91206,     0.91228,     0.91291,     0.91287,     0.91324,     0.91344,     0.91401,     0.91438,     0.91441,     0.91461,     0.91478,     0.91511,     0.91528,     0.91556,     0.91567,     0.91587,\n",
      "            0.91631,     0.91657,     0.91668,     0.91699,     0.91735,     0.91789,     0.91803,     0.91857,     0.91861,      0.9187,     0.91893,     0.91917,     0.91954,     0.91999,      0.9203,     0.92054,     0.92048,     0.92042,     0.92049,     0.92073,     0.92104,     0.92132,     0.92139,\n",
      "            0.92164,     0.92197,     0.92229,     0.92251,     0.92277,     0.92308,     0.92323,     0.92361,     0.92388,       0.924,     0.92414,     0.92443,     0.92462,     0.92466,     0.92494,     0.92516,     0.92556,     0.92581,     0.92608,     0.92638,     0.92669,     0.92684,     0.92706,\n",
      "            0.92728,      0.9275,      0.9279,     0.92822,     0.92836,      0.9283,     0.92853,     0.92881,     0.92894,     0.92917,     0.92943,     0.92964,     0.92975,     0.93016,     0.93038,     0.93075,     0.93086,     0.93087,     0.93098,     0.93101,     0.93117,      0.9311,     0.93161,\n",
      "              0.932,     0.93204,     0.93193,     0.93232,     0.93238,     0.93255,     0.93294,     0.93342,     0.93346,     0.93382,     0.93397,     0.93418,     0.93454,     0.93476,     0.93514,     0.93526,      0.9353,     0.93574,      0.9359,     0.93593,     0.93596,     0.93592,     0.93618,\n",
      "            0.93606,     0.93616,     0.93642,     0.93679,      0.9369,     0.93706,     0.93728,     0.93759,     0.93761,      0.9377,     0.93756,     0.93798,     0.93812,     0.93861,     0.93884,     0.93894,     0.93933,     0.93937,     0.93927,     0.93968,     0.93979,     0.94018,     0.94034,\n",
      "             0.9405,     0.94087,      0.9409,     0.94105,     0.94107,     0.94184,     0.94233,      0.9425,     0.94263,     0.94263,     0.94294,     0.94347,     0.94425,     0.94424,     0.94438,     0.94476,     0.94517,     0.94541,     0.94581,     0.94597,     0.94667,     0.94682,     0.94698,\n",
      "             0.9473,     0.94735,     0.94722,     0.94755,     0.94783,      0.9478,     0.94789,     0.94853,     0.94918,      0.9494,     0.94958,     0.94975,     0.94971,     0.94997,      0.9503,     0.95028,     0.95027,     0.95018,     0.95018,     0.95036,     0.95041,      0.9507,      0.9507,\n",
      "            0.95059,     0.95095,     0.95129,     0.95143,     0.95141,     0.95127,     0.95141,     0.95165,      0.9515,     0.95185,     0.95179,     0.95175,     0.95234,      0.9525,     0.95281,     0.95378,     0.95392,     0.95398,     0.95414,     0.95415,     0.95445,     0.95437,     0.95436,\n",
      "            0.95457,     0.95531,     0.95591,     0.95589,     0.95581,     0.95581,      0.9565,     0.95646,     0.95665,     0.95675,     0.95684,     0.95683,     0.95703,     0.95721,      0.9575,     0.95781,     0.95762,     0.95758,     0.95785,     0.95775,     0.95785,     0.95803,     0.95812,\n",
      "            0.95807,     0.95793,     0.95821,     0.95832,     0.95803,     0.95848,     0.95858,     0.95864,     0.95955,      0.9595,     0.95959,     0.95982,     0.95985,     0.95971,     0.96022,     0.96023,     0.96008,      0.9604,     0.96018,     0.96053,     0.96065,     0.96097,     0.96107,\n",
      "            0.96154,     0.96183,     0.96169,     0.96176,     0.96175,     0.96183,     0.96189,     0.96225,     0.96187,     0.96174,      0.9622,      0.9628,     0.96274,     0.96233,     0.96243,      0.9628,     0.96285,     0.96406,      0.9644,     0.96483,      0.9647,     0.96489,     0.96457,\n",
      "            0.96498,     0.96502,     0.96549,     0.96622,     0.96637,     0.96648,     0.96695,     0.96718,      0.9667,     0.96633,     0.96683,     0.96617,      0.9663,     0.96666,     0.96603,     0.96629,     0.96592,     0.96644,      0.9671,      0.9668,     0.96709,     0.96738,      0.9672,\n",
      "            0.96698,     0.96675,     0.96788,     0.96756,     0.96777,     0.96828,     0.96908,     0.96839,     0.96885,     0.97143,     0.97087,     0.97012,     0.96952,     0.96879,     0.96789,     0.96687,     0.96605,     0.96649,     0.96636,     0.96709,     0.96673,     0.96641,      0.9655,\n",
      "            0.96451,     0.96348,     0.96256,     0.96214,     0.96189,     0.96325,     0.96192,     0.96162,     0.96128,     0.96097,     0.96153,     0.96143,     0.96117,     0.96181,     0.96172,     0.96342,     0.96559,     0.96876,     0.96894,     0.96936,     0.96978,     0.97049,     0.97084,\n",
      "            0.97032,      0.9711,     0.97409,     0.97461,       0.976,     0.97504,     0.97387,       0.973,     0.97245,     0.97343,     0.97254,     0.97405,     0.97302,     0.97526,     0.97434,     0.97667,     0.97555,     0.97429,     0.97699,     0.97969,     0.97924,     0.97831,     0.97707,\n",
      "            0.97615,     0.97565,     0.97925,     0.97849,     0.98339,     0.98261,     0.98155,     0.98037,     0.97945,      0.9789,     0.98551,     0.98436,      0.9872,     0.99081,     0.98971,     0.98913,     0.98842,     0.98795,     0.98737,     0.98674,     0.98513,     0.98345,     0.98204,\n",
      "            0.98087,     0.97993,     0.97776,     0.98964,           1,           1,           1,           1,           1,           1,           1,           1,           1,           1,           1,           1,           1,           1,           1,           1,           1,           1,           1,\n",
      "                  1,           1,           1,           1,           1,           1,           1,           1,           1,           1,           1,           1,           1,           1,           1,           1,           1,           1,           1,           1,           1,           1,           1,\n",
      "                  1,           1,           1,           1,           1,           1,           1,           1,           1,           1,           1]]), 'Confidence', 'Precision'], [array([          0,    0.001001,    0.002002,    0.003003,    0.004004,    0.005005,    0.006006,    0.007007,    0.008008,    0.009009,     0.01001,    0.011011,    0.012012,    0.013013,    0.014014,    0.015015,    0.016016,    0.017017,    0.018018,    0.019019,     0.02002,    0.021021,    0.022022,    0.023023,\n",
      "          0.024024,    0.025025,    0.026026,    0.027027,    0.028028,    0.029029,     0.03003,    0.031031,    0.032032,    0.033033,    0.034034,    0.035035,    0.036036,    0.037037,    0.038038,    0.039039,     0.04004,    0.041041,    0.042042,    0.043043,    0.044044,    0.045045,    0.046046,    0.047047,\n",
      "          0.048048,    0.049049,     0.05005,    0.051051,    0.052052,    0.053053,    0.054054,    0.055055,    0.056056,    0.057057,    0.058058,    0.059059,     0.06006,    0.061061,    0.062062,    0.063063,    0.064064,    0.065065,    0.066066,    0.067067,    0.068068,    0.069069,     0.07007,    0.071071,\n",
      "          0.072072,    0.073073,    0.074074,    0.075075,    0.076076,    0.077077,    0.078078,    0.079079,     0.08008,    0.081081,    0.082082,    0.083083,    0.084084,    0.085085,    0.086086,    0.087087,    0.088088,    0.089089,     0.09009,    0.091091,    0.092092,    0.093093,    0.094094,    0.095095,\n",
      "          0.096096,    0.097097,    0.098098,    0.099099,      0.1001,      0.1011,      0.1021,      0.1031,      0.1041,     0.10511,     0.10611,     0.10711,     0.10811,     0.10911,     0.11011,     0.11111,     0.11211,     0.11311,     0.11411,     0.11512,     0.11612,     0.11712,     0.11812,     0.11912,\n",
      "           0.12012,     0.12112,     0.12212,     0.12312,     0.12412,     0.12513,     0.12613,     0.12713,     0.12813,     0.12913,     0.13013,     0.13113,     0.13213,     0.13313,     0.13413,     0.13514,     0.13614,     0.13714,     0.13814,     0.13914,     0.14014,     0.14114,     0.14214,     0.14314,\n",
      "           0.14414,     0.14515,     0.14615,     0.14715,     0.14815,     0.14915,     0.15015,     0.15115,     0.15215,     0.15315,     0.15415,     0.15516,     0.15616,     0.15716,     0.15816,     0.15916,     0.16016,     0.16116,     0.16216,     0.16316,     0.16416,     0.16517,     0.16617,     0.16717,\n",
      "           0.16817,     0.16917,     0.17017,     0.17117,     0.17217,     0.17317,     0.17417,     0.17518,     0.17618,     0.17718,     0.17818,     0.17918,     0.18018,     0.18118,     0.18218,     0.18318,     0.18418,     0.18519,     0.18619,     0.18719,     0.18819,     0.18919,     0.19019,     0.19119,\n",
      "           0.19219,     0.19319,     0.19419,      0.1952,      0.1962,      0.1972,      0.1982,      0.1992,      0.2002,      0.2012,      0.2022,      0.2032,      0.2042,     0.20521,     0.20621,     0.20721,     0.20821,     0.20921,     0.21021,     0.21121,     0.21221,     0.21321,     0.21421,     0.21522,\n",
      "           0.21622,     0.21722,     0.21822,     0.21922,     0.22022,     0.22122,     0.22222,     0.22322,     0.22422,     0.22523,     0.22623,     0.22723,     0.22823,     0.22923,     0.23023,     0.23123,     0.23223,     0.23323,     0.23423,     0.23524,     0.23624,     0.23724,     0.23824,     0.23924,\n",
      "           0.24024,     0.24124,     0.24224,     0.24324,     0.24424,     0.24525,     0.24625,     0.24725,     0.24825,     0.24925,     0.25025,     0.25125,     0.25225,     0.25325,     0.25425,     0.25526,     0.25626,     0.25726,     0.25826,     0.25926,     0.26026,     0.26126,     0.26226,     0.26326,\n",
      "           0.26426,     0.26527,     0.26627,     0.26727,     0.26827,     0.26927,     0.27027,     0.27127,     0.27227,     0.27327,     0.27427,     0.27528,     0.27628,     0.27728,     0.27828,     0.27928,     0.28028,     0.28128,     0.28228,     0.28328,     0.28428,     0.28529,     0.28629,     0.28729,\n",
      "           0.28829,     0.28929,     0.29029,     0.29129,     0.29229,     0.29329,     0.29429,      0.2953,      0.2963,      0.2973,      0.2983,      0.2993,      0.3003,      0.3013,      0.3023,      0.3033,      0.3043,     0.30531,     0.30631,     0.30731,     0.30831,     0.30931,     0.31031,     0.31131,\n",
      "           0.31231,     0.31331,     0.31431,     0.31532,     0.31632,     0.31732,     0.31832,     0.31932,     0.32032,     0.32132,     0.32232,     0.32332,     0.32432,     0.32533,     0.32633,     0.32733,     0.32833,     0.32933,     0.33033,     0.33133,     0.33233,     0.33333,     0.33433,     0.33534,\n",
      "           0.33634,     0.33734,     0.33834,     0.33934,     0.34034,     0.34134,     0.34234,     0.34334,     0.34434,     0.34535,     0.34635,     0.34735,     0.34835,     0.34935,     0.35035,     0.35135,     0.35235,     0.35335,     0.35435,     0.35536,     0.35636,     0.35736,     0.35836,     0.35936,\n",
      "           0.36036,     0.36136,     0.36236,     0.36336,     0.36436,     0.36537,     0.36637,     0.36737,     0.36837,     0.36937,     0.37037,     0.37137,     0.37237,     0.37337,     0.37437,     0.37538,     0.37638,     0.37738,     0.37838,     0.37938,     0.38038,     0.38138,     0.38238,     0.38338,\n",
      "           0.38438,     0.38539,     0.38639,     0.38739,     0.38839,     0.38939,     0.39039,     0.39139,     0.39239,     0.39339,     0.39439,      0.3954,      0.3964,      0.3974,      0.3984,      0.3994,      0.4004,      0.4014,      0.4024,      0.4034,      0.4044,     0.40541,     0.40641,     0.40741,\n",
      "           0.40841,     0.40941,     0.41041,     0.41141,     0.41241,     0.41341,     0.41441,     0.41542,     0.41642,     0.41742,     0.41842,     0.41942,     0.42042,     0.42142,     0.42242,     0.42342,     0.42442,     0.42543,     0.42643,     0.42743,     0.42843,     0.42943,     0.43043,     0.43143,\n",
      "           0.43243,     0.43343,     0.43443,     0.43544,     0.43644,     0.43744,     0.43844,     0.43944,     0.44044,     0.44144,     0.44244,     0.44344,     0.44444,     0.44545,     0.44645,     0.44745,     0.44845,     0.44945,     0.45045,     0.45145,     0.45245,     0.45345,     0.45445,     0.45546,\n",
      "           0.45646,     0.45746,     0.45846,     0.45946,     0.46046,     0.46146,     0.46246,     0.46346,     0.46446,     0.46547,     0.46647,     0.46747,     0.46847,     0.46947,     0.47047,     0.47147,     0.47247,     0.47347,     0.47447,     0.47548,     0.47648,     0.47748,     0.47848,     0.47948,\n",
      "           0.48048,     0.48148,     0.48248,     0.48348,     0.48448,     0.48549,     0.48649,     0.48749,     0.48849,     0.48949,     0.49049,     0.49149,     0.49249,     0.49349,     0.49449,      0.4955,      0.4965,      0.4975,      0.4985,      0.4995,      0.5005,      0.5015,      0.5025,      0.5035,\n",
      "            0.5045,     0.50551,     0.50651,     0.50751,     0.50851,     0.50951,     0.51051,     0.51151,     0.51251,     0.51351,     0.51451,     0.51552,     0.51652,     0.51752,     0.51852,     0.51952,     0.52052,     0.52152,     0.52252,     0.52352,     0.52452,     0.52553,     0.52653,     0.52753,\n",
      "           0.52853,     0.52953,     0.53053,     0.53153,     0.53253,     0.53353,     0.53453,     0.53554,     0.53654,     0.53754,     0.53854,     0.53954,     0.54054,     0.54154,     0.54254,     0.54354,     0.54454,     0.54555,     0.54655,     0.54755,     0.54855,     0.54955,     0.55055,     0.55155,\n",
      "           0.55255,     0.55355,     0.55455,     0.55556,     0.55656,     0.55756,     0.55856,     0.55956,     0.56056,     0.56156,     0.56256,     0.56356,     0.56456,     0.56557,     0.56657,     0.56757,     0.56857,     0.56957,     0.57057,     0.57157,     0.57257,     0.57357,     0.57457,     0.57558,\n",
      "           0.57658,     0.57758,     0.57858,     0.57958,     0.58058,     0.58158,     0.58258,     0.58358,     0.58458,     0.58559,     0.58659,     0.58759,     0.58859,     0.58959,     0.59059,     0.59159,     0.59259,     0.59359,     0.59459,      0.5956,      0.5966,      0.5976,      0.5986,      0.5996,\n",
      "            0.6006,      0.6016,      0.6026,      0.6036,      0.6046,     0.60561,     0.60661,     0.60761,     0.60861,     0.60961,     0.61061,     0.61161,     0.61261,     0.61361,     0.61461,     0.61562,     0.61662,     0.61762,     0.61862,     0.61962,     0.62062,     0.62162,     0.62262,     0.62362,\n",
      "           0.62462,     0.62563,     0.62663,     0.62763,     0.62863,     0.62963,     0.63063,     0.63163,     0.63263,     0.63363,     0.63463,     0.63564,     0.63664,     0.63764,     0.63864,     0.63964,     0.64064,     0.64164,     0.64264,     0.64364,     0.64464,     0.64565,     0.64665,     0.64765,\n",
      "           0.64865,     0.64965,     0.65065,     0.65165,     0.65265,     0.65365,     0.65465,     0.65566,     0.65666,     0.65766,     0.65866,     0.65966,     0.66066,     0.66166,     0.66266,     0.66366,     0.66466,     0.66567,     0.66667,     0.66767,     0.66867,     0.66967,     0.67067,     0.67167,\n",
      "           0.67267,     0.67367,     0.67467,     0.67568,     0.67668,     0.67768,     0.67868,     0.67968,     0.68068,     0.68168,     0.68268,     0.68368,     0.68468,     0.68569,     0.68669,     0.68769,     0.68869,     0.68969,     0.69069,     0.69169,     0.69269,     0.69369,     0.69469,      0.6957,\n",
      "            0.6967,      0.6977,      0.6987,      0.6997,      0.7007,      0.7017,      0.7027,      0.7037,      0.7047,     0.70571,     0.70671,     0.70771,     0.70871,     0.70971,     0.71071,     0.71171,     0.71271,     0.71371,     0.71471,     0.71572,     0.71672,     0.71772,     0.71872,     0.71972,\n",
      "           0.72072,     0.72172,     0.72272,     0.72372,     0.72472,     0.72573,     0.72673,     0.72773,     0.72873,     0.72973,     0.73073,     0.73173,     0.73273,     0.73373,     0.73473,     0.73574,     0.73674,     0.73774,     0.73874,     0.73974,     0.74074,     0.74174,     0.74274,     0.74374,\n",
      "           0.74474,     0.74575,     0.74675,     0.74775,     0.74875,     0.74975,     0.75075,     0.75175,     0.75275,     0.75375,     0.75475,     0.75576,     0.75676,     0.75776,     0.75876,     0.75976,     0.76076,     0.76176,     0.76276,     0.76376,     0.76476,     0.76577,     0.76677,     0.76777,\n",
      "           0.76877,     0.76977,     0.77077,     0.77177,     0.77277,     0.77377,     0.77477,     0.77578,     0.77678,     0.77778,     0.77878,     0.77978,     0.78078,     0.78178,     0.78278,     0.78378,     0.78478,     0.78579,     0.78679,     0.78779,     0.78879,     0.78979,     0.79079,     0.79179,\n",
      "           0.79279,     0.79379,     0.79479,      0.7958,      0.7968,      0.7978,      0.7988,      0.7998,      0.8008,      0.8018,      0.8028,      0.8038,      0.8048,     0.80581,     0.80681,     0.80781,     0.80881,     0.80981,     0.81081,     0.81181,     0.81281,     0.81381,     0.81481,     0.81582,\n",
      "           0.81682,     0.81782,     0.81882,     0.81982,     0.82082,     0.82182,     0.82282,     0.82382,     0.82482,     0.82583,     0.82683,     0.82783,     0.82883,     0.82983,     0.83083,     0.83183,     0.83283,     0.83383,     0.83483,     0.83584,     0.83684,     0.83784,     0.83884,     0.83984,\n",
      "           0.84084,     0.84184,     0.84284,     0.84384,     0.84484,     0.84585,     0.84685,     0.84785,     0.84885,     0.84985,     0.85085,     0.85185,     0.85285,     0.85385,     0.85485,     0.85586,     0.85686,     0.85786,     0.85886,     0.85986,     0.86086,     0.86186,     0.86286,     0.86386,\n",
      "           0.86486,     0.86587,     0.86687,     0.86787,     0.86887,     0.86987,     0.87087,     0.87187,     0.87287,     0.87387,     0.87487,     0.87588,     0.87688,     0.87788,     0.87888,     0.87988,     0.88088,     0.88188,     0.88288,     0.88388,     0.88488,     0.88589,     0.88689,     0.88789,\n",
      "           0.88889,     0.88989,     0.89089,     0.89189,     0.89289,     0.89389,     0.89489,      0.8959,      0.8969,      0.8979,      0.8989,      0.8999,      0.9009,      0.9019,      0.9029,      0.9039,      0.9049,     0.90591,     0.90691,     0.90791,     0.90891,     0.90991,     0.91091,     0.91191,\n",
      "           0.91291,     0.91391,     0.91491,     0.91592,     0.91692,     0.91792,     0.91892,     0.91992,     0.92092,     0.92192,     0.92292,     0.92392,     0.92492,     0.92593,     0.92693,     0.92793,     0.92893,     0.92993,     0.93093,     0.93193,     0.93293,     0.93393,     0.93493,     0.93594,\n",
      "           0.93694,     0.93794,     0.93894,     0.93994,     0.94094,     0.94194,     0.94294,     0.94394,     0.94494,     0.94595,     0.94695,     0.94795,     0.94895,     0.94995,     0.95095,     0.95195,     0.95295,     0.95395,     0.95495,     0.95596,     0.95696,     0.95796,     0.95896,     0.95996,\n",
      "           0.96096,     0.96196,     0.96296,     0.96396,     0.96496,     0.96597,     0.96697,     0.96797,     0.96897,     0.96997,     0.97097,     0.97197,     0.97297,     0.97397,     0.97497,     0.97598,     0.97698,     0.97798,     0.97898,     0.97998,     0.98098,     0.98198,     0.98298,     0.98398,\n",
      "           0.98498,     0.98599,     0.98699,     0.98799,     0.98899,     0.98999,     0.99099,     0.99199,     0.99299,     0.99399,     0.99499,       0.996,       0.997,       0.998,       0.999,           1]), array([[    0.90932,     0.90932,     0.90932,     0.90932,     0.90932,     0.90932,     0.90932,     0.90932,     0.90932,     0.90932,     0.90932,     0.90892,     0.90892,     0.90852,     0.90842,     0.90822,     0.90801,     0.90791,     0.90741,     0.90711,     0.90681,     0.90681,     0.90651,\n",
      "            0.90631,     0.90591,     0.90581,     0.90561,     0.90551,     0.90531,     0.90531,     0.90531,     0.90521,     0.90511,     0.90501,     0.90491,      0.9048,      0.9048,      0.9044,      0.9042,      0.9041,      0.9038,      0.9038,      0.9036,      0.9035,      0.9033,      0.9033,\n",
      "             0.9032,      0.9031,       0.903,      0.9025,      0.9024,      0.9024,      0.9022,      0.9021,      0.9019,     0.90159,     0.90149,     0.90149,     0.90139,     0.90129,     0.90119,     0.90089,     0.90069,     0.90039,     0.90029,     0.90019,     0.90019,     0.90009,     0.90009,\n",
      "            0.89999,     0.89979,     0.89959,     0.89939,     0.89929,     0.89929,     0.89909,     0.89899,     0.89899,     0.89869,     0.89859,     0.89859,     0.89849,     0.89838,     0.89828,     0.89818,     0.89808,     0.89778,     0.89757,     0.89738,     0.89738,     0.89728,     0.89718,\n",
      "            0.89688,     0.89668,     0.89658,     0.89618,     0.89588,     0.89588,     0.89588,     0.89588,     0.89578,     0.89568,     0.89568,     0.89558,     0.89548,     0.89538,     0.89518,     0.89507,     0.89487,     0.89467,     0.89437,     0.89437,     0.89428,     0.89427,     0.89427,\n",
      "            0.89417,     0.89397,     0.89397,     0.89387,     0.89387,     0.89377,     0.89367,     0.89347,     0.89347,     0.89347,     0.89347,     0.89347,     0.89327,     0.89327,     0.89307,     0.89297,     0.89267,     0.89247,     0.89207,     0.89186,     0.89186,     0.89176,     0.89176,\n",
      "            0.89176,     0.89156,     0.89156,     0.89136,     0.89096,     0.89076,     0.89076,     0.89076,     0.89046,     0.89036,     0.89036,     0.89036,     0.89036,     0.89036,     0.89029,     0.89016,     0.89016,     0.89016,     0.89016,     0.89006,     0.88986,     0.88986,     0.88986,\n",
      "            0.88976,     0.88966,     0.88956,     0.88956,     0.88956,     0.88956,     0.88946,     0.88936,     0.88936,     0.88896,     0.88865,     0.88833,     0.88815,     0.88815,     0.88795,     0.88785,     0.88785,     0.88785,     0.88775,     0.88765,     0.88725,     0.88705,     0.88695,\n",
      "            0.88685,     0.88655,     0.88645,     0.88635,     0.88635,     0.88625,     0.88625,     0.88625,     0.88625,     0.88615,      0.8861,     0.88605,     0.88595,     0.88575,     0.88575,     0.88565,     0.88565,     0.88565,     0.88565,     0.88565,     0.88565,     0.88555,     0.88534,\n",
      "            0.88524,     0.88524,     0.88524,     0.88524,     0.88524,     0.88494,     0.88474,     0.88454,     0.88454,     0.88444,     0.88444,     0.88424,     0.88384,     0.88374,     0.88354,     0.88354,     0.88344,     0.88334,     0.88334,     0.88294,     0.88284,     0.88284,     0.88284,\n",
      "            0.88262,     0.88254,     0.88244,     0.88244,     0.88223,     0.88223,     0.88193,     0.88176,     0.88163,     0.88144,     0.88123,     0.88123,     0.88117,     0.88103,     0.88093,     0.88073,     0.88073,      0.8806,     0.88053,     0.88043,     0.88043,      0.8803,     0.88023,\n",
      "            0.88017,     0.88003,     0.87983,     0.87983,     0.87963,     0.87941,     0.87919,     0.87892,     0.87892,     0.87892,     0.87882,     0.87882,     0.87882,     0.87854,     0.87832,     0.87822,     0.87792,     0.87782,     0.87772,     0.87772,     0.87772,     0.87752,     0.87742,\n",
      "            0.87742,     0.87742,     0.87741,     0.87712,     0.87712,     0.87709,     0.87692,     0.87692,     0.87672,     0.87672,     0.87652,     0.87647,     0.87632,     0.87615,     0.87612,     0.87602,     0.87572,     0.87561,     0.87551,     0.87541,     0.87541,     0.87531,     0.87522,\n",
      "            0.87491,     0.87491,     0.87491,     0.87491,     0.87451,     0.87431,     0.87424,      0.8742,     0.87371,     0.87371,     0.87353,     0.87351,     0.87341,     0.87331,     0.87307,     0.87301,     0.87291,     0.87291,     0.87271,     0.87261,     0.87261,     0.87261,     0.87261,\n",
      "             0.8724,      0.8723,      0.8722,      0.8721,      0.8718,      0.8718,      0.8715,     0.87125,     0.87097,      0.8709,      0.8705,      0.8704,     0.87022,      0.8701,      0.8701,     0.87001,      0.8699,      0.8699,     0.86966,      0.8696,      0.8695,      0.8695,     0.86919,\n",
      "            0.86905,     0.86881,     0.86879,     0.86859,     0.86843,     0.86823,     0.86799,     0.86789,     0.86769,     0.86739,     0.86739,     0.86719,     0.86699,     0.86679,     0.86671,     0.86659,     0.86649,     0.86649,     0.86641,     0.86634,     0.86629,     0.86619,     0.86577,\n",
      "            0.86556,     0.86532,     0.86528,     0.86509,       0.865,     0.86428,     0.86398,     0.86388,     0.86379,     0.86377,     0.86349,     0.86338,     0.86298,     0.86277,     0.86258,     0.86247,     0.86213,     0.86187,     0.86167,     0.86153,     0.86117,     0.86107,     0.86087,\n",
      "            0.86073,     0.86028,     0.86017,     0.86007,     0.85966,     0.85952,     0.85946,     0.85924,     0.85889,     0.85847,     0.85836,     0.85826,     0.85818,     0.85786,     0.85756,     0.85745,     0.85716,     0.85672,     0.85666,     0.85646,     0.85608,     0.85559,     0.85531,\n",
      "            0.85486,     0.85455,     0.85455,     0.85431,     0.85364,     0.85345,     0.85345,     0.85314,     0.85298,     0.85284,     0.85284,     0.85244,     0.85224,     0.85214,     0.85194,     0.85145,     0.85088,     0.85064,     0.85038,     0.84994,     0.84964,     0.84939,     0.84883,\n",
      "            0.84871,     0.84863,     0.84792,     0.84783,     0.84776,     0.84722,     0.84693,     0.84671,     0.84622,     0.84592,      0.8458,     0.84525,     0.84521,     0.84492,     0.84492,     0.84462,      0.8443,     0.84403,     0.84369,     0.84301,     0.84291,     0.84241,     0.84225,\n",
      "            0.84181,     0.84161,     0.84141,     0.84131,     0.84121,     0.84088,     0.84041,      0.8401,      0.8398,     0.83942,      0.8393,      0.8389,     0.83882,     0.83817,     0.83802,      0.8374,     0.83694,     0.83659,     0.83589,     0.83569,     0.83504,      0.8346,     0.83429,\n",
      "            0.83381,     0.83318,     0.83309,     0.83268,     0.83227,       0.832,     0.83178,     0.83148,     0.83116,     0.83098,      0.8306,     0.82966,     0.82928,     0.82904,     0.82885,     0.82849,     0.82791,     0.82754,     0.82723,     0.82696,      0.8268,      0.8264,     0.82595,\n",
      "            0.82566,     0.82536,     0.82506,     0.82496,     0.82405,     0.82365,     0.82346,     0.82333,     0.82301,     0.82288,     0.82265,      0.8226,     0.82245,     0.82203,     0.82166,     0.82113,     0.82099,     0.82047,     0.81996,     0.81925,     0.81892,     0.81854,     0.81809,\n",
      "            0.81784,     0.81743,     0.81697,     0.81644,     0.81633,     0.81613,     0.81567,     0.81516,     0.81463,     0.81418,     0.81388,     0.81372,     0.81312,     0.81272,     0.81232,     0.81182,     0.81152,     0.81123,     0.81055,     0.80992,     0.80971,     0.80911,     0.80791,\n",
      "            0.80757,      0.8071,     0.80674,      0.8061,     0.80586,     0.80556,      0.8051,     0.80422,     0.80379,     0.80338,     0.80296,     0.80244,     0.80209,     0.80158,     0.80133,     0.80108,     0.80041,     0.80002,     0.79916,     0.79874,     0.79831,     0.79725,     0.79667,\n",
      "            0.79617,     0.79568,     0.79458,      0.7945,     0.79379,     0.79346,     0.79266,     0.79216,     0.79137,     0.79116,      0.7902,     0.78932,     0.78895,     0.78804,     0.78766,     0.78677,     0.78613,     0.78545,     0.78509,     0.78483,     0.78443,     0.78393,     0.78283,\n",
      "            0.78226,     0.78172,     0.78094,     0.78032,     0.77942,     0.77883,     0.77806,     0.77771,     0.77731,     0.77692,     0.77611,     0.77553,      0.7751,     0.77436,     0.77382,       0.773,     0.77249,     0.77199,     0.77161,     0.77059,     0.76969,     0.76908,     0.76788,\n",
      "            0.76668,     0.76609,     0.76487,     0.76402,     0.76304,     0.76238,     0.76111,     0.76038,     0.75885,     0.75801,     0.75698,     0.75624,     0.75544,     0.75479,      0.7534,     0.75232,     0.75091,     0.74967,     0.74829,     0.74722,     0.74636,     0.74553,     0.74475,\n",
      "              0.743,      0.7415,     0.74025,     0.73839,     0.73718,     0.73643,     0.73547,      0.7341,     0.73314,     0.73179,     0.73069,     0.72986,     0.72898,     0.72715,     0.72607,     0.72455,     0.72358,     0.72307,     0.72204,     0.72089,     0.71943,     0.71792,     0.71663,\n",
      "            0.71515,     0.71338,     0.71211,      0.7108,     0.70899,     0.70791,     0.70608,     0.70539,     0.70396,     0.70206,      0.7004,     0.69907,     0.69801,      0.6963,     0.69443,     0.69263,     0.69113,      0.6901,     0.68886,     0.68757,     0.68579,     0.68423,     0.68304,\n",
      "            0.68179,     0.67999,     0.67877,     0.67737,     0.67605,     0.67469,     0.67367,     0.67243,     0.67081,     0.66921,     0.66803,     0.66631,      0.6643,     0.66251,     0.66079,     0.65884,     0.65714,     0.65613,     0.65503,     0.65331,     0.65176,     0.65005,     0.64862,\n",
      "            0.64735,     0.64621,     0.64445,     0.64336,     0.64156,     0.63934,     0.63867,     0.63728,     0.63587,     0.63457,     0.63284,      0.6314,     0.62894,     0.62714,     0.62525,     0.62313,     0.62153,      0.6198,     0.61793,     0.61649,     0.61514,     0.61315,     0.61121,\n",
      "            0.60919,     0.60738,     0.60532,     0.60328,     0.60096,     0.59927,     0.59712,     0.59432,     0.59238,     0.59092,     0.58815,     0.58574,     0.58328,     0.58134,     0.57929,     0.57748,     0.57517,     0.57185,     0.56978,     0.56778,     0.56537,     0.56233,     0.56006,\n",
      "            0.55743,     0.55542,     0.55238,     0.54992,     0.54676,      0.5446,     0.54256,     0.53988,     0.53787,     0.53473,     0.53152,     0.52911,     0.52653,     0.52283,     0.51975,     0.51697,     0.51455,     0.51175,     0.50838,     0.50486,     0.50149,     0.49921,     0.49572,\n",
      "            0.49279,     0.48882,     0.48525,     0.48207,     0.47861,     0.47469,     0.47128,     0.46729,     0.46404,     0.46105,     0.45739,     0.45401,     0.45087,     0.44688,     0.44306,     0.43837,     0.43427,     0.43061,     0.42566,     0.42227,     0.41877,     0.41491,     0.41104,\n",
      "            0.40536,     0.40192,      0.3979,     0.39355,     0.38841,      0.3842,     0.37975,     0.37582,     0.37193,      0.3681,     0.36519,     0.36083,     0.35766,     0.35362,     0.34944,     0.34531,     0.34057,     0.33795,      0.3342,     0.33025,     0.32627,     0.32249,      0.3195,\n",
      "            0.31511,     0.30995,     0.30591,     0.30126,     0.29686,     0.29212,     0.28761,     0.28376,     0.27952,     0.27641,     0.27194,     0.26646,     0.26173,     0.25597,     0.25107,     0.24731,     0.24167,      0.2369,     0.23296,     0.22785,     0.22406,     0.22016,     0.21591,\n",
      "            0.21153,     0.20706,     0.20253,     0.19747,     0.19274,     0.18985,     0.18547,     0.18131,     0.17786,     0.17398,      0.1705,      0.1661,     0.16272,      0.1588,     0.15422,     0.14932,     0.14558,     0.14177,     0.13832,     0.13558,     0.13118,     0.12699,     0.12352,\n",
      "            0.11997,     0.11645,     0.11348,      0.1096,     0.10635,     0.10255,    0.098824,    0.095507,    0.092153,     0.08892,    0.085246,    0.082509,    0.079447,    0.075796,    0.073085,    0.071338,    0.067551,    0.065322,    0.062576,    0.060292,    0.057944,     0.05609,    0.053443,\n",
      "           0.052476,    0.050568,    0.049034,    0.046206,    0.044875,    0.043106,    0.041127,    0.039757,    0.038951,    0.036744,    0.035526,    0.033886,    0.032564,     0.03164,    0.030477,      0.0294,    0.028018,     0.02661,    0.025554,    0.024195,    0.023662,    0.022626,    0.021368,\n",
      "           0.020525,    0.020093,    0.018935,    0.018251,    0.017815,    0.017008,    0.016006,    0.015027,    0.014344,    0.013961,    0.013646,    0.012631,    0.011837,    0.010819,   0.0096448,   0.0091276,    0.008564,   0.0082234,   0.0078451,   0.0074635,   0.0066466,   0.0059624,   0.0054841,\n",
      "          0.0051442,   0.0048975,   0.0044109,   0.0041127,   0.0040156,   0.0035745,   0.0031082,   0.0028607,   0.0027914,   0.0027215,   0.0025719,    0.002406,   0.0023177,   0.0021549,   0.0017649,   0.0015938,    0.001509,    0.001222,  0.00097883,    0.000873,   0.0008319,  0.00076383,  0.00056448,\n",
      "         0.00040021,  0.00036117,  0.00032213,  0.00029043,  0.00026743,  0.00024444,  0.00022145,   0.0001981,  0.00017131,  0.00014451,  0.00011772,           0,           0,           0,           0,           0,           0,           0,           0,           0,           0,           0,           0,\n",
      "                  0,           0,           0,           0,           0,           0,           0,           0,           0,           0,           0]]), 'Confidence', 'Recall']]\n",
      "fitness: 0.6856998666474653\n",
      "keys: ['metrics/precision(B)', 'metrics/recall(B)', 'metrics/mAP50(B)', 'metrics/mAP50-95(B)']\n",
      "maps: array([    0.66426,     0.66426,     0.66426,     0.66426,     0.66426,     0.66426])\n",
      "names: {0: 'Torus Tobarius', 1: 'Soft palate', 2: 'Uvula', 3: 'Glottis', 4: 'True vocal folds', 5: 'Epiglottis'}\n",
      "plot: True\n",
      "results_dict: {'metrics/precision(B)': 0.8773260890664659, 'metrics/recall(B)': 0.8529804804115292, 'metrics/mAP50(B)': 0.8786304788399047, 'metrics/mAP50-95(B)': 0.6642631319594164, 'fitness': 0.6856998666474653}\n",
      "save_dir: WindowsPath('weights/try2')\n",
      "speed: {'preprocess': 0.2596770884339037, 'inference': 2.741559368872162, 'loss': 0.0018225105167608891, 'postprocess': 1.015958057230088}\n",
      "task: 'detect'\n"
     ]
    },
    {
     "ename": "NameError",
     "evalue": "name 'epoch' is not defined",
     "output_type": "error",
     "traceback": [
      "\u001b[1;31m---------------------------------------------------------------------------\u001b[0m",
      "\u001b[1;31mNameError\u001b[0m                                 Traceback (most recent call last)",
      "Cell \u001b[1;32mIn[11], line 3\u001b[0m\n\u001b[0;32m      1\u001b[0m \u001b[38;5;28mprint\u001b[39m(results)\n\u001b[0;32m      2\u001b[0m wandb\u001b[38;5;241m.\u001b[39mlog({\n\u001b[1;32m----> 3\u001b[0m     \u001b[38;5;124m\"\u001b[39m\u001b[38;5;124mepoch\u001b[39m\u001b[38;5;124m\"\u001b[39m: \u001b[43mepoch\u001b[49m,\n\u001b[0;32m      4\u001b[0m     \u001b[38;5;124m\"\u001b[39m\u001b[38;5;124mtrain_loss\u001b[39m\u001b[38;5;124m\"\u001b[39m: results[\u001b[38;5;124m\"\u001b[39m\u001b[38;5;124mtrain_loss\u001b[39m\u001b[38;5;124m\"\u001b[39m],\n\u001b[0;32m      5\u001b[0m     \u001b[38;5;124m\"\u001b[39m\u001b[38;5;124mval_loss\u001b[39m\u001b[38;5;124m\"\u001b[39m: results[\u001b[38;5;124m\"\u001b[39m\u001b[38;5;124mval_loss\u001b[39m\u001b[38;5;124m\"\u001b[39m],\n\u001b[0;32m      6\u001b[0m     \u001b[38;5;124m\"\u001b[39m\u001b[38;5;124maccuracy\u001b[39m\u001b[38;5;124m\"\u001b[39m: results[\u001b[38;5;124m\"\u001b[39m\u001b[38;5;124maccuracy\u001b[39m\u001b[38;5;124m\"\u001b[39m]  \u001b[38;5;66;03m# If you have accuracy or other metrics\u001b[39;00m\n\u001b[0;32m      7\u001b[0m })\n\u001b[0;32m      9\u001b[0m wandb\u001b[38;5;241m.\u001b[39mfinish()\n",
      "\u001b[1;31mNameError\u001b[0m: name 'epoch' is not defined"
     ]
    }
   ],
   "source": [
    "print(results)\n",
    "wandb.log()\n",
    "\n",
    "wandb.finish()"
   ]
  },
  {
   "cell_type": "markdown",
   "metadata": {},
   "source": [
    "Running Predictions on model using bagls video and dhs video"
   ]
  },
  {
   "cell_type": "markdown",
   "metadata": {},
   "source": [
    "note we do not need to use openCV for video processing since we already have the video, this will not be true once we start using the webcamera"
   ]
  },
  {
   "cell_type": "code",
   "execution_count": null,
   "metadata": {},
   "outputs": [],
   "source": [
    "dhs_video = r'D:\\FYP Code\\testfiles\\dhs.mp4'\n",
    "baglsC_video = r'D:\\FYP Code\\testfiles\\bagls-color.mp4'\n",
    "bagls_video = r'D:\\FYP Code\\testfiles\\bagls.mp4'\n",
    "test_path = r'D:\\FYP Datasets\\fyp\\training\\test\\images'\n",
    "weight_path = r'weights\\try\\weights\\best.pt'"
   ]
  },
  {
   "cell_type": "code",
   "execution_count": null,
   "metadata": {},
   "outputs": [],
   "source": [
    "model = YOLO(weight_path)\n",
    "# model.predict(source= test_path, save_dir = 'results', save= True)\n",
    "model.predict(source=dhs_video, save_dir = 'results', save= True)\n",
    "model.predict(source=baglsC_video, save_dir = 'results', save= True)\n",
    "model.predict(source=bagls_video, save_dir = 'results', save= True)\n"
   ]
  },
  {
   "cell_type": "code",
   "execution_count": null,
   "metadata": {},
   "outputs": [],
   "source": [
    "# wandb.log({\"final_mAP\": results.metrics.mAP50})\n",
    "# wandb.finish()"
   ]
  }
 ],
 "metadata": {
  "kernelspec": {
   "display_name": "fyp",
   "language": "python",
   "name": "python3"
  },
  "language_info": {
   "codemirror_mode": {
    "name": "ipython",
    "version": 3
   },
   "file_extension": ".py",
   "mimetype": "text/x-python",
   "name": "python",
   "nbconvert_exporter": "python",
   "pygments_lexer": "ipython3",
   "version": "3.10.8"
  }
 },
 "nbformat": 4,
 "nbformat_minor": 2
}
