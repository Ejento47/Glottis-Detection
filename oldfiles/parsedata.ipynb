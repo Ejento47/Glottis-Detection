{
 "cells": [
  {
   "cell_type": "code",
   "execution_count": 1,
   "metadata": {},
   "outputs": [],
   "source": [
    "import json\n",
    "import os\n",
    "import sys\n",
    "import csv"
   ]
  },
  {
   "cell_type": "code",
   "execution_count": 29,
   "metadata": {},
   "outputs": [],
   "source": [
    "input_folder1 = r\"D:\\FYP Datasets\\BAGLS\\test\\test\"\n",
    "# input_folder2 = r\"D:\\FYP Datasets\\BAGLS\\training\\training\"\n",
    "output_folder = r\"D:\\FYP Datasets\\BAGLS\\test\"\n",
    "meta_file = r\"D:\\FYP Code\\testfiles\\0.meta\" #for creating csv headers"
   ]
  },
  {
   "cell_type": "markdown",
   "metadata": {},
   "source": [
    "**For parsing test/ training alone, we can use the following approach:**"
   ]
  },
  {
   "cell_type": "code",
   "execution_count": 30,
   "metadata": {},
   "outputs": [],
   "source": [
    "#creating csv file and header\n",
    "with open(meta_file, 'r') as f:\n",
    "    data = json.load(f)\n",
    "    headers = data.keys()\n",
    "    headers = list(headers)\n",
    "    headers.insert(0, 'Filename')\n",
    "    with open(output_folder + \"/metadata.csv\" , 'w', newline='') as file:\n",
    "        writer = csv.writer(file)\n",
    "        writer.writerow(headers)"
   ]
  },
  {
   "cell_type": "code",
   "execution_count": 31,
   "metadata": {},
   "outputs": [],
   "source": [
    "#append data into csvfile and parse metadata\n",
    "with open(os.path.join(output_folder, 'metadata.csv'), 'a', newline='') as f:\n",
    "    writer = csv.writer(f)\n",
    "    for filename in os.listdir(input_folder1):\n",
    "        if filename.endswith(\".meta\"):\n",
    "            name = filename.split(\".\")[0]\n",
    "            with open(os.path.join(input_folder1, filename), 'r') as file:\n",
    "                data = json.load(file)\n",
    "                relevant_data = [name]\n",
    "                for key in data.keys():\n",
    "                    relevant_data.append(data[key])\n",
    "                writer.writerow(relevant_data)\n"
   ]
  },
  {
   "cell_type": "markdown",
   "metadata": {},
   "source": [
    "**for pasing test and training tofather, we can use the following approach:**"
   ]
  },
  {
   "cell_type": "code",
   "execution_count": null,
   "metadata": {},
   "outputs": [],
   "source": [
    "with open(os.path.join(output_folder, 'metadata.csv'), 'a', newline='') as f:\n",
    "    writer = csv.writer(f)\n",
    "    for filename in os.listdir(input_folder1):\n",
    "        if filename.endswith(\".meta\"):\n",
    "            name = filename.split(\".\")[0] + \"_test\"\n",
    "            with open(os.path.join(input_folder1, filename), 'r') as file:\n",
    "                data = json.load(file)\n",
    "                relevant_data = [name]\n",
    "                for key in data.keys():\n",
    "                    relevant_data.append(data[key])\n",
    "                writer.writerow(relevant_data)\n",
    "    for filename in os.listdir(input_folder2):\n",
    "        if filename.endswith(\".meta\"):\n",
    "            name = filename.split(\".\")[0] + \"_train\"\n",
    "            with open(os.path.join(input_folder2, filename), 'r') as file:\n",
    "                data = json.load(file)\n",
    "                relevant_data = [name]\n",
    "                for key in data.keys():\n",
    "                    relevant_data.append(data[key])\n",
    "                writer.writerow(relevant_data)    \n",
    "    "
   ]
  },
  {
   "cell_type": "markdown",
   "metadata": {},
   "source": [
    "Testing"
   ]
  },
  {
   "cell_type": "code",
   "execution_count": null,
   "metadata": {},
   "outputs": [
    {
     "name": "stdout",
     "output_type": "stream",
     "text": [
      "['filename', 'Video Id', 'Camera', 'Sampling rate (Hz)', 'Video resolution (px, HxW)', 'Color', 'Endoscope orientation', 'Endoscope application', 'Age range (yrs)', 'Subject sex', 'Subject disorder status', 'Segmenter', 'Post-processed']\n",
      "['0', 27, 'HERS 5562 Endocam Wolf', 4000, [256, 256], False, '70°', 'oral', '90-100', 'w', 'spasmodic dysphonia', 1, 2]\n"
     ]
    }
   ],
   "source": [
    "# meta_path = r\"D:\\FYP Code\\testfiles\\0.meta\"\n",
    "\n",
    "# #load meta data\n",
    "# name = os.path.basename(meta_path).split('.')[0]\n",
    "# csv_header = ['filename']\n",
    "# relevant_data = [name]\n",
    "# with open(meta_path, 'r') as f:\n",
    "#     meta = json.load(f)\n",
    "#     for key in meta:\n",
    "#         csv_header.append(key)\n",
    "#         relevant_data.append(meta[key])\n",
    "    \n",
    "# print(csv_header)\n",
    "# print(relevant_data)\n",
    "\n",
    "# with open('meta.csv', 'w', newline='') as f:\n",
    "#     writer = csv.writer(f)\n",
    "#     writer.writerow(csv_header)\n",
    "#     writer.writerow(relevant_data)\n",
    "    \n",
    "    "
   ]
  }
 ],
 "metadata": {
  "kernelspec": {
   "display_name": "fyp",
   "language": "python",
   "name": "python3"
  },
  "language_info": {
   "codemirror_mode": {
    "name": "ipython",
    "version": 3
   },
   "file_extension": ".py",
   "mimetype": "text/x-python",
   "name": "python",
   "nbconvert_exporter": "python",
   "pygments_lexer": "ipython3",
   "version": "3.9.21"
  }
 },
 "nbformat": 4,
 "nbformat_minor": 2
}
