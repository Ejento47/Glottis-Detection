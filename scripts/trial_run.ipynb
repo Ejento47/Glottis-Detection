{
 "cells": [
  {
   "cell_type": "code",
   "execution_count": null,
   "metadata": {},
   "outputs": [],
   "source": [
    "from ultralytics import YOLO\n",
    "from ultralytics import settings\n",
    "import torch\n",
    "import pandas as pd\n",
    "import torch\n",
    "import os\n",
    "import glob\n",
    "import wandb\n",
    "import ultralytics\n",
    "import cv2\n",
    "print('ultralytics %s' % ultralytics.__version__)\n",
    "print('wandb %s' % wandb.__version__)\n",
    "from wandb.integration.ultralytics import add_wandb_callback"
   ]
  },
  {
   "cell_type": "code",
   "execution_count": null,
   "metadata": {},
   "outputs": [],
   "source": [
    "!nvidia-smi"
   ]
  },
  {
   "cell_type": "markdown",
   "metadata": {},
   "source": [
    "Arguments setting for the model"
   ]
  },
  {
   "cell_type": "code",
   "execution_count": 3,
   "metadata": {},
   "outputs": [],
   "source": [
    "args = dict(\n",
    "    data = \"configs/data.yaml\",\n",
    "    epochs = 1,\n",
    "    patience = 5,\n",
    "    batch = 4,\n",
    "    save = False,\n",
    "    save_period = 5,\n",
    "    device = '0',\n",
    "    workers = 1,\n",
    "    project = \"weights\",\n",
    "    name = \"try\",\n",
    "    exist_ok = False, #overwrite the existing run for iterative testing, turn false when confident\n",
    "    pretrained = True,\n",
    "    optimizer = 'auto',\n",
    "    resume = False,\n",
    "    amp = False, #mixed precision training for faster training, might cause some issues\n",
    "    fraction = 0.1, #fraction of dataset if resouce limited, change to 1 when confident\n",
    "    profile = False, #enable ONNX and TensorRT profiling\n",
    "    freeze = None, #freeze the first N layers or can specify the layers by index\n",
    "    #for validation part\n",
    "    conf = 0.01,\n",
    "    iou = 0.6,\n",
    "    degrees = 0.0, \n",
    "    shear = 0.0,\n",
    "    perspective = 0.0,\n",
    "    plots = True,\n",
    "    half = True, #use half precision for weaker gpu\n",
    ")"
   ]
  },
  {
   "cell_type": "markdown",
   "metadata": {},
   "source": [
    "Loading the model yoloV8 and running wandb for logging"
   ]
  },
  {
   "cell_type": "markdown",
   "metadata": {},
   "source": [
    "Training of model"
   ]
  },
  {
   "cell_type": "code",
   "execution_count": null,
   "metadata": {},
   "outputs": [],
   "source": [
    "settings.update({\"wandb\": True})\n",
    "wandb.login()"
   ]
  },
  {
   "cell_type": "code",
   "execution_count": null,
   "metadata": {},
   "outputs": [],
   "source": [
    "wandb.init(project='YOLOv8x-GlottisDetection', name='Parameter-sweep 1')"
   ]
  },
  {
   "cell_type": "code",
   "execution_count": null,
   "metadata": {},
   "outputs": [],
   "source": [
    "# for loading model\n",
    "model = YOLO('yolov8x.pt')"
   ]
  },
  {
   "cell_type": "code",
   "execution_count": null,
   "metadata": {},
   "outputs": [],
   "source": [
    "add_wandb_callback(model, enable_model_checkpointing=True)"
   ]
  },
  {
   "cell_type": "code",
   "execution_count": null,
   "metadata": {},
   "outputs": [],
   "source": [
    "#training model\n",
    "results = model.train(cfg=\"train_cfg.yaml\")"
   ]
  },
  {
   "cell_type": "code",
   "execution_count": 9,
   "metadata": {},
   "outputs": [],
   "source": [
    "model_path = 'yolov8nDemo.pt'\n",
    "model.save(model_path)"
   ]
  },
  {
   "cell_type": "code",
   "execution_count": 14,
   "metadata": {},
   "outputs": [],
   "source": [
    "\n",
    "wandb.finish()"
   ]
  },
  {
   "cell_type": "markdown",
   "metadata": {},
   "source": [
    "Running Predictions on model using bagls video and dhs video"
   ]
  },
  {
   "cell_type": "markdown",
   "metadata": {},
   "source": [
    "Can use OpenCV for better video processing and visualization of the predictions"
   ]
  },
  {
   "cell_type": "code",
   "execution_count": 17,
   "metadata": {},
   "outputs": [],
   "source": [
    "dhs_video = r'D:\\FYP Code\\testfiles\\dhs.mp4'\n",
    "baglsC_video = r'D:\\FYP Code\\testfiles\\bagls-color.mp4'\n",
    "bagls_video = r'D:\\FYP Code\\testfiles\\bagls.mp4'\n",
    "test_path = r'D:\\FYP Datasets\\fyp\\training\\test\\images'\n",
    "weight_path = r'D:\\FYP Code\\weights\\try2\\weights\\best.pt'"
   ]
  },
  {
   "cell_type": "code",
   "execution_count": null,
   "metadata": {},
   "outputs": [],
   "source": [
    "model = YOLO(weight_path)\n",
    "# model.predict(source= test_path, save_dir = 'results', save= True)\n",
    "model.predict(source=dhs_video, save_dir = 'results', save= True)\n",
    "model.predict(source=baglsC_video, save_dir = 'results', save= True)\n",
    "model.predict(source=bagls_video, save_dir = 'results', save= True)\n"
   ]
  },
  {
   "cell_type": "code",
   "execution_count": null,
   "metadata": {},
   "outputs": [],
   "source": [
    "# wandb.log({\"final_mAP\": results.metrics.mAP50})\n",
    "# wandb.finish()"
   ]
  }
 ],
 "metadata": {
  "kernelspec": {
   "display_name": "fyp",
   "language": "python",
   "name": "python3"
  },
  "language_info": {
   "codemirror_mode": {
    "name": "ipython",
    "version": 3
   },
   "file_extension": ".py",
   "mimetype": "text/x-python",
   "name": "python",
   "nbconvert_exporter": "python",
   "pygments_lexer": "ipython3",
   "version": "3.10.8"
  }
 },
 "nbformat": 4,
 "nbformat_minor": 2
}
