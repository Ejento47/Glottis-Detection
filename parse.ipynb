{
 "cells": [
  {
   "cell_type": "code",
   "execution_count": 5,
   "metadata": {},
   "outputs": [],
   "source": [
    "import json\n",
    "import os\n",
    "import sys"
   ]
  },
  {
   "cell_type": "markdown",
   "metadata": {},
   "source": [
    "Testing"
   ]
  },
  {
   "cell_type": "code",
   "execution_count": 6,
   "metadata": {},
   "outputs": [
    {
     "name": "stdout",
     "output_type": "stream",
     "text": [
      "{'Video Id': 27, 'Camera': 'HERS 5562 Endocam Wolf', 'Sampling rate (Hz)': 4000, 'Video resolution (px, HxW)': [256, 256], 'Color': False, 'Endoscope orientation': '70°', 'Endoscope application': 'oral', 'Age range (yrs)': '90-100', 'Subject sex': 'w', 'Subject disorder status': 'spasmodic dysphonia', 'Segmenter': 1, 'Post-processed': 2}\n"
     ]
    }
   ],
   "source": [
    "meta_path = r\"D:\\FYP Code\\0.meta\"\n",
    "\n",
    "#load meta data\n",
    "with open(meta_path, 'r') as f:\n",
    "    meta = json.load(f)\n",
    "    "
   ]
  },
  {
   "cell_type": "code",
   "execution_count": null,
   "metadata": {},
   "outputs": [],
   "source": []
  }
 ],
 "metadata": {
  "kernelspec": {
   "display_name": "base",
   "language": "python",
   "name": "python3"
  },
  "language_info": {
   "codemirror_mode": {
    "name": "ipython",
    "version": 3
   },
   "file_extension": ".py",
   "mimetype": "text/x-python",
   "name": "python",
   "nbconvert_exporter": "python",
   "pygments_lexer": "ipython3",
   "version": "3.12.7"
  }
 },
 "nbformat": 4,
 "nbformat_minor": 2
}
